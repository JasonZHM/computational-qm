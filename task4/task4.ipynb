{
 "cells": [
  {
   "cell_type": "markdown",
   "metadata": {},
   "source": [
    "# Matrix Product Operator of Square Lattice Compass Model\n",
    "\n",
    "Author: Haimeng Zhao\n",
    "\n",
    "Email: haimengzhao@icloud.com\n",
    "\n",
    "This notebook investigate the matrix product operator (MPO) form of the Hamiltonian of a compass model.\n",
    "\n",
    "We first write down the finite automata form of the Hamiltonian, and from that obtain the matrix product operator.\n",
    "\n",
    "Then we contract the MPOs to generate the Hamiltonian, diagonalize it, and compare the results with exact diagonalization."
   ]
  },
  {
   "cell_type": "markdown",
   "metadata": {},
   "source": [
    "## Compass Model\n",
    "The model we are interested here is on a $3\\times 3$ square lattice, with periodic boundary condition in vertical direction and open boundary condition in horizontal direction:\n",
    "\n",
    "<img src=\"./model.png\" width=\"10%\"/>\n",
    "\n",
    "The Hamiltonian is of the following form:\n",
    "$$\n",
    "H = -J_x\\sum_{(i, j)_H}\\sigma_i^x\\sigma_j^x - J_y\\sum_{(i, j)_V}\\sigma_i^y\\sigma_j^y,\n",
    "$$\n",
    "where $J_x=0.4, J_y=1.3$ and\n",
    "$$\n",
    "(i, j)_H = (0,3), (3,6), (1,4), (4,7), (2,5), (5,8)\n",
    "$$\n",
    "$$\n",
    "(i, j)_V = (0,1), (1,2), (2,0), (3,4), (4,5), (5,3), (6,7), (7,8), (8,6)\n",
    "$$"
   ]
  },
  {
   "cell_type": "markdown",
   "metadata": {},
   "source": [
    "## Finite Automata Diagram\n",
    "\n",
    "Our goal is to find the MPO representation of the above Hamiltonian, i.e.\n",
    "\n",
    "<img src=\"./MPO.png\" width=\"50%\"/>\n",
    "\n",
    "A proper finite automata diagram would help us a lot.\n",
    "\n",
    "From the form of the Hamiltonian, we can write down the automata diagram of the vertical links:\n",
    "\n",
    "<img src=\"./automata-sigmay.png\" width=\"50%\"/>\n",
    "\n",
    "and the horizontal links:\n",
    "\n",
    "<img src=\"./automata-sigmax.png\" width=\"50%\"/>\n",
    "\n",
    "Adding these two diagram, we get:\n",
    "\n",
    "<img src=\"./automata.png\" width=\"50%\"/>\n"
   ]
  },
  {
   "cell_type": "markdown",
   "metadata": {},
   "source": [
    "## Matrix Product Operator\n",
    "The diagram above has 6 rows and a period of 3. \n",
    "\n",
    "Therefore, we only need 3 different $6\\times 6$ matrix operator component, which can be read off directly from the diagram (assuming $J_x=1, J_y=1$):\n",
    "\n",
    "$$\n",
    "M_0 = \\begin{pmatrix}\n",
    "I &0 &0 &\\sigma^x &\\sigma^y &0\\\\\n",
    "0 &I &0 &0 &0 &0\\\\\n",
    "0 &0 &I &0 &0 &0\\\\\n",
    "0 &0 &0 &0 &0 &\\sigma^x\\\\\n",
    "0 &0 &0 &0 &0 &0\\\\\n",
    "0 &0 &0 &0 &0 &I\n",
    "\\end{pmatrix}\n",
    "$$\n",
    "\n",
    "$$\n",
    "M_1 = \\begin{pmatrix}\n",
    "I &0 &\\sigma^x &0 &\\sigma^y &0\\\\\n",
    "0 &I &0 &0 &0 &0\\\\\n",
    "0 &0 &0 &0 &0 &\\sigma^x\\\\\n",
    "0 &0 &0 &I &0 &0\\\\\n",
    "0 &0 &0 &0 &I &\\sigma^y\\\\\n",
    "0 &0 &0 &0 &0 &I\n",
    "\\end{pmatrix}\n",
    "$$\n",
    "\n",
    "$$\n",
    "M_2 = \\begin{pmatrix}\n",
    "I &\\sigma^x &0 &0 &0 &0\\\\\n",
    "0 &0 &0 &0 &0 &\\sigma^x\\\\\n",
    "0 &0 &I &0 &0 &0\\\\\n",
    "0 &0 &0 &I &0 &0\\\\\n",
    "0 &0 &0 &0 &0 &\\sigma^y\\\\\n",
    "0 &0 &0 &0 &0 &I\n",
    "\\end{pmatrix}\n",
    "$$\n",
    "\n",
    "And the Hamiltonian is:\n",
    "$$\n",
    "H = -\\begin{pmatrix}\n",
    "1 &0&0&0&0&0\n",
    "\\end{pmatrix}\n",
    "(M_0 M_1 M_2)(M_0 M_1 M_2)(M_0 M_1 M_2)\n",
    "\\begin{pmatrix}\n",
    "0 \\\\0\\\\0\\\\0\\\\0\\\\1\n",
    "\\end{pmatrix}.\n",
    "$$\n",
    "To put $Jx, Jy$ back in, we can replace $\\sigma^x, \\sigma^y$ with $\\sqrt{J_x}\\sigma^x, \\sqrt{J_y}\\sigma^y$.\n",
    "\n",
    "Now we can implement these matrices in code."
   ]
  },
  {
   "cell_type": "code",
   "execution_count": 1,
   "metadata": {},
   "outputs": [],
   "source": [
    "import numpy as np\n",
    "\n",
    "Jx = 0.4; Jy = 1.3\n",
    "Sx = np.sqrt(Jx) * np.array([\n",
    "    [0, 1],\n",
    "    [1, 0]\n",
    "])\n",
    "Sy = np.sqrt(Jy) * np.array([\n",
    "    [0, -1j],\n",
    "    [1j, 0]\n",
    "])\n",
    "I = np.identity(2)\n",
    "O = np.zeros_like(I)\n",
    "\n",
    "M0 = np.array([\n",
    "    [I, O, O, Sx, Sy, O],\n",
    "    [O, I, O, O, O, O],\n",
    "    [O, O, I, O, O, O],\n",
    "    [O, O, O, O, O, Sx],\n",
    "    [O, O, O, O, O, O],\n",
    "    [O, O, O, O, O, I],\n",
    "])\n",
    "M1 = np.array([\n",
    "    [I, O, Sx, O, Sy, O],\n",
    "    [O, I, O, O, O, O],\n",
    "    [O, O, O, O, O, Sx],\n",
    "    [O, O, O, I, O, O],\n",
    "    [O, O, O, O, I, Sy],\n",
    "    [O, O, O, O, O, I],\n",
    "])\n",
    "M2 = np.array([\n",
    "    [I, Sx, O, O, O, O],\n",
    "    [O, O, O, O, O, Sx],\n",
    "    [O, O, I, O, O, O],\n",
    "    [O, O, O, I, O, O],\n",
    "    [O, O, O, O, O, Sy],\n",
    "    [O, O, O, O, O, I],\n",
    "])"
   ]
  },
  {
   "cell_type": "markdown",
   "metadata": {},
   "source": [
    "In contraction, there are two different types of multiplication: matrix multiplication and tensor product.\n",
    "\n",
    "Thus we shall implement our own contraction function."
   ]
  },
  {
   "cell_type": "code",
   "execution_count": 2,
   "metadata": {},
   "outputs": [],
   "source": [
    "def bicontract(A, B):\n",
    "    '''\n",
    "    Contract two MPOs.\n",
    "    '''\n",
    "    assert(A.shape[1]==B.shape[0])\n",
    "    res = np.zeros((A.shape[0], B.shape[1], A.shape[-1]*B.shape[-1], A.shape[-1]*B.shape[-1]), dtype=np.complex128)\n",
    "    for row in range(A.shape[0]):\n",
    "        for col in range(B.shape[1]):\n",
    "            for ind in range(A.shape[1]):\n",
    "                res[row, col] += np.kron(A[row, ind], B[ind, col])\n",
    "    return res\n",
    "\n",
    "def contract(op_list, power=1):\n",
    "    '''\n",
    "    Contract op_list to power.\n",
    "    '''\n",
    "    if power > 1:\n",
    "        return bicontract(contract(op_list, power - 1), contract(op_list, 1))\n",
    "    elif power == 1:\n",
    "        if len(op_list) > 1:\n",
    "            return bicontract(contract([op_list[0]], power), contract(op_list[1:], power))\n",
    "        elif len(op_list) == 1:\n",
    "            return op_list[0]\n",
    "    return None"
   ]
  },
  {
   "cell_type": "markdown",
   "metadata": {},
   "source": [
    "Now we can construct the Hamiltonian via contraction."
   ]
  },
  {
   "cell_type": "code",
   "execution_count": 3,
   "metadata": {},
   "outputs": [
    {
     "name": "stdout",
     "output_type": "stream",
     "text": [
      "(512, 512)\n"
     ]
    }
   ],
   "source": [
    "H = - contract([M0, M1, M2], 3)[0, -1]\n",
    "print(H.shape)"
   ]
  },
  {
   "cell_type": "markdown",
   "metadata": {},
   "source": [
    "Indeed the Hamiltonian is $2^9 \\times 2^9$."
   ]
  },
  {
   "cell_type": "markdown",
   "metadata": {},
   "source": [
    "## Diagonalization\n",
    "Now, we diagonalize the Hamiltonian and print the lowest 20 eigenvalues."
   ]
  },
  {
   "cell_type": "code",
   "execution_count": 4,
   "metadata": {},
   "outputs": [
    {
     "name": "stdout",
     "output_type": "stream",
     "text": [
      "[-11.79980076 -11.79980076 -11.79266065 -11.79266065 -11.79266065\n",
      " -11.79266065 -11.78554884 -11.78554884  -7.27512586  -7.27512586\n",
      "  -7.27512586  -7.27512586  -7.27512586  -7.27512586  -7.19125783\n",
      "  -7.19125783  -7.19125783  -7.19125783  -7.19125783  -7.19125783]\n"
     ]
    }
   ],
   "source": [
    "eigval = np.linalg.eigvalsh(H)\n",
    "print(eigval[:20])"
   ]
  },
  {
   "cell_type": "markdown",
   "metadata": {},
   "source": [
    "## Compare to Exact Diagonalization\n",
    "To implement exact diagonalization, we encode basis vectors with binary strings and borrow bit operations from previous notebooks."
   ]
  },
  {
   "cell_type": "code",
   "execution_count": 5,
   "metadata": {},
   "outputs": [],
   "source": [
    "def readBit(num, n):\n",
    "    return (num & (1 << n)) >> n\n",
    "\n",
    "def flipBit(num, n):\n",
    "    return num ^ (1 << n)"
   ]
  },
  {
   "cell_type": "code",
   "execution_count": 6,
   "metadata": {},
   "outputs": [],
   "source": [
    "import numpy as np\n",
    "from scipy import sparse\n",
    "\n",
    "N = 9\n",
    "length = 2 ** N\n",
    "\n",
    "# Hamiltonian\n",
    "HFrom = []\n",
    "HTo = []\n",
    "HValue = []\n",
    "\n",
    "ijH = [(0,3), (3,6), (1,4), (4,7), (2,5), (5,8)]\n",
    "ijV = [(0,1), (1,2), (2,0), (3,4), (4,5), (5,3), (6,7), (7,8), (8,6)]\n",
    "\n",
    "for fromBasis in range(length):\n",
    "\n",
    "    # horizontal\n",
    "    for i, j in ijH:\n",
    "        HFrom.append(fromBasis)\n",
    "        HTo.append(flipBit(flipBit(fromBasis, i), j))\n",
    "        HValue.append(-Jx)\n",
    "\n",
    "    # vertical\n",
    "    for i, j in ijV:\n",
    "        HFrom.append(fromBasis)\n",
    "        HTo.append(flipBit(flipBit(fromBasis, i), j))\n",
    "        val = -1\n",
    "        if readBit(fromBasis, i) == 1:\n",
    "            val = -val\n",
    "        if readBit(fromBasis, j) == 1:\n",
    "            val = -val\n",
    "        HValue.append(-Jy * val)\n",
    "\n",
    "Hed = sparse.coo_matrix((HValue, (HTo, HFrom)), shape=(length, length)).toarray()"
   ]
  },
  {
   "cell_type": "code",
   "execution_count": 7,
   "metadata": {},
   "outputs": [
    {
     "name": "stdout",
     "output_type": "stream",
     "text": [
      "[-11.79980076 -11.79980076 -11.79266065 -11.79266065 -11.79266065\n",
      " -11.79266065 -11.78554884 -11.78554884  -7.27512586  -7.27512586\n",
      "  -7.27512586  -7.27512586  -7.27512586  -7.27512586  -7.19125783\n",
      "  -7.19125783  -7.19125783  -7.19125783  -7.19125783  -7.19125783]\n"
     ]
    }
   ],
   "source": [
    "eigvaled = np.linalg.eigvalsh(Hed)\n",
    "print(eigvaled[:20])"
   ]
  },
  {
   "cell_type": "markdown",
   "metadata": {},
   "source": [
    "Let's confirm that these two approaches yield the same result."
   ]
  },
  {
   "cell_type": "code",
   "execution_count": 8,
   "metadata": {},
   "outputs": [
    {
     "name": "stdout",
     "output_type": "stream",
     "text": [
      "Hs are the same:  True\n",
      "Eigenvalues are the same: True\n"
     ]
    }
   ],
   "source": [
    "print('Hs are the same: ', H.all() == Hed.all())\n",
    "print('Eigenvalues are the same:', (np.abs(eigval - eigvaled) < 1e-10).all())"
   ]
  },
  {
   "cell_type": "markdown",
   "metadata": {},
   "source": [
    "The Hamiltonians and eigen energies obtained from MPO and exact diagonlization are exactly the same!"
   ]
  }
 ],
 "metadata": {
  "interpreter": {
   "hash": "6544d7d25989b4294a912322cb1a3d014baeb728b9c72e23e3b8bbf4fa651ef0"
  },
  "kernelspec": {
   "display_name": "Python 3.7.6 64-bit ('anaconda3-2020.02': pyenv)",
   "name": "python3"
  },
  "language_info": {
   "codemirror_mode": {
    "name": "ipython",
    "version": 3
   },
   "file_extension": ".py",
   "mimetype": "text/x-python",
   "name": "python",
   "nbconvert_exporter": "python",
   "pygments_lexer": "ipython3",
   "version": "3.7.6"
  },
  "orig_nbformat": 4
 },
 "nbformat": 4,
 "nbformat_minor": 2
}
