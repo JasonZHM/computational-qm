{
 "cells": [
  {
   "cell_type": "markdown",
   "source": [
    "# Dispersion Relation of Transverse-field Ising Model and Time Evolution of Wave Packet\n",
    "\n",
    "This notebook has two parts. \n",
    "\n",
    "The first part presents a sample code for computing the dispersion relation of transverse-field ising model, and the numerical results are compared with analytical solutions obtained by Jodan-Wigner and Bogliubov transformation.\n",
    "\n",
    "The second part presents the time evolution of a Gaussian wave packet on a tight-binding chain with a gradient field, in which we can observe the Bloch oscillation."
   ],
   "metadata": {}
  },
  {
   "cell_type": "markdown",
   "source": [
    "# Dispersion Relation of Transverse-filed Ising Model\n",
    "\n",
    "Here we consider a transverse-field ising model on an N-site ring.\n",
    "\n",
    "The Hamiltonian is\n",
    "$$\n",
    "H = -J\\sum_{i=1}^N (g\\sigma_i^x+\\sigma_i^z\\sigma_{i+1}^z), i\\in \\mathbb{Z}_N\n",
    "$$\n",
    "\n",
    "where we take two sets of parameters $J=1, g=1.6$ and $J=1, g=0.6$."
   ],
   "metadata": {}
  },
  {
   "cell_type": "code",
   "execution_count": 1,
   "source": [
    "paramList = [(8, 1, 1.6), (8, 1, 0.6), (4, 1, 1.6), (4, 1, 0.6)]"
   ],
   "outputs": [],
   "metadata": {}
  },
  {
   "cell_type": "markdown",
   "source": [
    "## Basic Bit Operations\n",
    "\n",
    "First, let's define some basic bit operations for later use.\n"
   ],
   "metadata": {}
  },
  {
   "cell_type": "code",
   "execution_count": 2,
   "source": [
    "def countBinOnes(num):\n",
    "    return bin(num).count('1')\n",
    "\n",
    "def concatBins(left, right, leftShift=6):\n",
    "    return (left << leftShift) + right\n",
    "\n",
    "def splitBins(num, cutFromRight=6):\n",
    "    return num >> cutFromRight, num % (1 << cutFromRight)\n",
    "\n",
    "def readBit(num, n):\n",
    "    return (num & (1 << n)) >> n\n",
    "\n",
    "def flipBit(num, n):\n",
    "    return num ^ (1 << n)\n",
    "\n",
    "def pickBits(num, start, n):\n",
    "    return (num & ((2 ** n - 1) << start)) >> start\n",
    "\n",
    "def rotLBit(num, length, n):\n",
    "    return (pickBits(num, 0, length-n) << n) + (num >> (length-n))\n",
    "\n",
    "def rotRBit(num, length, n):\n",
    "    return (pickBits(num, 0, n) << (length - n)) + (num >> n)\n"
   ],
   "outputs": [],
   "metadata": {}
  },
  {
   "cell_type": "markdown",
   "source": [
    "## Constructing Hamiltonian and Translation Operator\n",
    "\n",
    "Now, we counstruct of the Hamiltonian $H$ and Translation Operator $T$ (e.g. $T\\ket{10100} = \\ket{01001}$).\n"
   ],
   "metadata": {}
  },
  {
   "cell_type": "code",
   "execution_count": 3,
   "source": [
    "import numpy as np\n",
    "from scipy import sparse\n",
    "\n",
    "def getHT(N, J, g):\n",
    "\n",
    "    length = 2 ** N\n",
    "\n",
    "    # Hamiltonian\n",
    "    HFrom = []\n",
    "    HTo = []\n",
    "    HValue = []\n",
    "\n",
    "    # Translation\n",
    "    TFrom = []\n",
    "    TTo = []\n",
    "    TValue = []\n",
    "\n",
    "    for fromBasis in range(length):\n",
    "\n",
    "        # H: off-diagonal\n",
    "        for pos in range(N):\n",
    "            HFrom.append(fromBasis)\n",
    "            HTo.append(flipBit(fromBasis, pos))\n",
    "            HValue.append(-J * g)\n",
    "\n",
    "        # H: diagonal\n",
    "        HFrom.append(fromBasis)\n",
    "        HTo.append(fromBasis)\n",
    "        shift = rotLBit(fromBasis, N, 1)\n",
    "        numDiff = bin(fromBasis ^ shift).count('1')\n",
    "        HValue.append(-J * (N - numDiff - numDiff))\n",
    "\n",
    "        # T:\n",
    "        TFrom.append(fromBasis)\n",
    "        TTo.append(rotLBit(fromBasis, N, 1))\n",
    "        TValue.append(1)\n",
    "\n",
    "    H = sparse.coo_matrix((HValue, (HTo, HFrom)), shape=(length, length)).toarray()\n",
    "    T = sparse.coo_matrix((TValue, (TTo, TFrom)), shape=(length, length)).toarray()\n",
    "\n",
    "    return H, T"
   ],
   "outputs": [],
   "metadata": {}
  },
  {
   "cell_type": "markdown",
   "source": [
    "## Diagonalizing\n",
    "\n",
    "Since the Hamiltonian admits translational symmetry, we can diagonalize $HT$ to obtain the eigen energies $E(k)$ with their corresponding momentum $k$ simultaneously:\n",
    "$$\n",
    "HT\\ket{E, k} = Ee^{ik}\\ket{E, k}\n",
    "$$\n",
    "\n",
    "However, there's a problem regarding the sign of the energy.\n",
    "\n",
    "But we can make use of the eigenvectors to obtain $E$ and $k$ seperately."
   ],
   "metadata": {}
  },
  {
   "cell_type": "code",
   "execution_count": 4,
   "source": [
    "def getDispersion(H, T):\n",
    "    HTEigVal, HTEigVec = np.linalg.eig(H @ T)\n",
    "    E = np.real(np.diagonal(HTEigVec.conj().T @ H @ HTEigVec))\n",
    "    k = np.real(np.angle(np.diagonal(HTEigVec.conj().T @ T @ HTEigVec)))\n",
    "\n",
    "    return E, k"
   ],
   "outputs": [],
   "metadata": {}
  },
  {
   "cell_type": "code",
   "execution_count": 32,
   "source": [
    "H, T = getHT(4, 1, 0.6)\n",
    "H@T-T@H"
   ],
   "outputs": [
    {
     "output_type": "execute_result",
     "data": {
      "text/plain": [
       "array([[0., 0., 0., 0., 0., 0., 0., 0., 0., 0., 0., 0., 0., 0., 0., 0.],\n",
       "       [0., 0., 0., 0., 0., 0., 0., 0., 0., 0., 0., 0., 0., 0., 0., 0.],\n",
       "       [0., 0., 0., 0., 0., 0., 0., 0., 0., 0., 0., 0., 0., 0., 0., 0.],\n",
       "       [0., 0., 0., 0., 0., 0., 0., 0., 0., 0., 0., 0., 0., 0., 0., 0.],\n",
       "       [0., 0., 0., 0., 0., 0., 0., 0., 0., 0., 0., 0., 0., 0., 0., 0.],\n",
       "       [0., 0., 0., 0., 0., 0., 0., 0., 0., 0., 0., 0., 0., 0., 0., 0.],\n",
       "       [0., 0., 0., 0., 0., 0., 0., 0., 0., 0., 0., 0., 0., 0., 0., 0.],\n",
       "       [0., 0., 0., 0., 0., 0., 0., 0., 0., 0., 0., 0., 0., 0., 0., 0.],\n",
       "       [0., 0., 0., 0., 0., 0., 0., 0., 0., 0., 0., 0., 0., 0., 0., 0.],\n",
       "       [0., 0., 0., 0., 0., 0., 0., 0., 0., 0., 0., 0., 0., 0., 0., 0.],\n",
       "       [0., 0., 0., 0., 0., 0., 0., 0., 0., 0., 0., 0., 0., 0., 0., 0.],\n",
       "       [0., 0., 0., 0., 0., 0., 0., 0., 0., 0., 0., 0., 0., 0., 0., 0.],\n",
       "       [0., 0., 0., 0., 0., 0., 0., 0., 0., 0., 0., 0., 0., 0., 0., 0.],\n",
       "       [0., 0., 0., 0., 0., 0., 0., 0., 0., 0., 0., 0., 0., 0., 0., 0.],\n",
       "       [0., 0., 0., 0., 0., 0., 0., 0., 0., 0., 0., 0., 0., 0., 0., 0.],\n",
       "       [0., 0., 0., 0., 0., 0., 0., 0., 0., 0., 0., 0., 0., 0., 0., 0.]])"
      ]
     },
     "metadata": {},
     "execution_count": 32
    }
   ],
   "metadata": {}
  },
  {
   "cell_type": "markdown",
   "source": [
    "For $(N, J, g) = (8, 1, 1.6), (8, 1, 0.6), (4, 1, 1.6), (4, 1, 0.6)$, we can plot their dispersion relations:"
   ],
   "metadata": {}
  },
  {
   "cell_type": "code",
   "execution_count": 6,
   "source": [
    "import matplotlib.pyplot as plt\n",
    "%matplotlib inline\n",
    "for N, J, g in paramList:\n",
    "    H, T = getHT(N, J, g)\n",
    "    E, k = getDispersion(H, T)\n",
    "    if (N, g) == (4, 1.6):\n",
    "        print(np.sort(E))\n",
    "    plt.scatter(k, E)\n",
    "    plt.xlim(-np.pi, np.pi)\n",
    "    plt.xlabel(r'$k$')\n",
    "    plt.ylim(-10, 10)\n",
    "    plt.ylabel(r'$E(k)$')\n",
    "    plt.legend([f'$(N, J, g)=({N}, {J}, {g})$'])\n",
    "    plt.show()"
   ],
   "outputs": [
    {
     "output_type": "display_data",
     "data": {
      "image/png": "[encoded data removed]",
      "text/plain": [
       "<Figure size 432x288 with 1 Axes>"
      ]
     },
     "metadata": {
      "needs_background": "light"
     }
    },
    {
     "output_type": "display_data",
     "data": {
      "image/png": "[encoded data removed]",
      "text/plain": [
       "<Figure size 432x288 with 1 Axes>"
      ]
     },
     "metadata": {
      "needs_background": "light"
     }
    },
    {
     "output_type": "stream",
     "name": "stdout",
     "text": [
      "[-7.10401652e+00 -5.77359245e+00 -2.54812662e+00 -1.74961830e+00\n",
      " -1.57177220e+00 -1.57177220e+00 -2.45991120e-17  4.25458302e-19\n",
      "  2.05996816e-17  2.05996816e-17  1.52851144e+00  1.52851144e+00\n",
      "  1.77359245e+00  2.54812662e+00  5.77073378e+00  7.10401652e+00]\n"
     ]
    },
    {
     "output_type": "display_data",
     "data": {
      "image/png": "[encoded data removed]",
      "text/plain": [
       "<Figure size 432x288 with 1 Axes>"
      ]
     },
     "metadata": {
      "needs_background": "light"
     }
    },
    {
     "output_type": "display_data",
     "data": {
      "image/png": "[encoded data removed]",
      "text/plain": [
       "<Figure size 432x288 with 1 Axes>"
      ]
     },
     "metadata": {
      "needs_background": "light"
     }
    }
   ],
   "metadata": {}
  },
  {
   "cell_type": "markdown",
   "source": [
    "## Analytical Solution\n",
    "The analytical solution can be obtained by applying Jordan-Wigner and Bogliubov transformation.\n",
    "\n",
    "The result is as follows:\n",
    "$$\n",
    "H = \\sum_k \\epsilon_k \\gamma_k^\\dagger \\gamma_k - \\epsilon_0,\n",
    "$$\n",
    "where $\\gamma_k^\\dagger, \\gamma_k$ are creation and annihilation operaters of non interaction fermions (at most N of them), and\n",
    "$$\n",
    "\\epsilon_k = 2J\\sqrt{1+g^2-2g\\cos{k}},\n",
    "$$\n",
    "$$\n",
    "\\epsilon_0 = J\\sum_k\\sqrt{1+g^2-2g\\cos{k}},\n",
    "$$\n",
    "summation of k taking $2\\pi/N$ times integers for odd number of fermions and half-integers for even number."
   ],
   "metadata": {}
  },
  {
   "cell_type": "code",
   "execution_count": 39,
   "source": [
    "def epsilon(J, g, k):\n",
    "    return J * np.sqrt(1 + g ** 2 - 2 * g * np.cos(k))"
   ],
   "outputs": [],
   "metadata": {}
  },
  {
   "cell_type": "code",
   "execution_count": 85,
   "source": [
    "def getAnalyticalSol(N, J, g):\n",
    "    kList=[\n",
    "        (np.arange(0, N) + 1/2) * 2 * np.pi / N, # even\n",
    "        np.arange(0, N) * 2 * np.pi / N, # odd\n",
    "    ]\n",
    "\n",
    "    E = []\n",
    "    for config in range(2 ** N):\n",
    "        energy = 0\n",
    "        num = bin(config).count('1')\n",
    "        ks = kList[num % 2]\n",
    "\n",
    "        energy -= np.sum(epsilon(J, g, ks))\n",
    "        for pos in range(N):\n",
    "            if readBit(config, pos):\n",
    "                print(bin(config), energy)\n",
    "                energy += 2 * epsilon(J, g, ks[pos])\n",
    "\n",
    "        E.append(energy)\n",
    "    return np.array(sorted(E))"
   ],
   "outputs": [],
   "metadata": {}
  },
  {
   "cell_type": "markdown",
   "source": [
    "## Compare Results\n",
    "Finally, we can compare the results from exact diagonalization and analytical solution."
   ],
   "metadata": {}
  },
  {
   "cell_type": "code",
   "execution_count": 86,
   "source": [
    "for N, J, g in [(2, 1, 1.6), (2, 1, 0.2)]:\n",
    "    H, T = getHT(N, J, g)\n",
    "    E, k = getDispersion(H, T)\n",
    "    E = np.real(np.linalg.eig(H)[0])\n",
    "    print(H)\n",
    "    EAS = getAnalyticalSol(N, J, g)\n",
    "    print(f\"Exact Diag.:\\n{np.sort(E)}\\n Analytical Sol.:\\n{EAS}\")\n",
    "    print(f\"Whether |ED-AS| < 1e-10:\\n{np.abs(np.sort(E)-EAS)<1e-10}\")"
   ],
   "outputs": [
    {
     "output_type": "stream",
     "name": "stdout",
     "text": [
      "[[-2.  -1.6 -1.6  0. ]\n",
      " [-1.6  2.   0.  -1.6]\n",
      " [-1.6  0.   2.  -1.6]\n",
      " [ 0.  -1.6 -1.6 -2. ]]\n",
      "0b1 -3.2\n",
      "-1.9999999999999996\n",
      "0b10 -3.2\n",
      "2.0\n",
      "0b11 -3.773592452822642\n",
      "0.0\n",
      "0b11 0.0\n",
      "3.773592452822642\n",
      "Exact Diag.:\n",
      "[-3.77359245 -2.          2.          3.77359245]\n",
      " Analytical Sol.:\n",
      "[-3.77359245 -2.          2.          3.77359245]\n",
      "Whether |ED-AS| < 1e-10:\n",
      "[ True  True  True  True]\n",
      "[[-2.  -0.2 -0.2  0. ]\n",
      " [-0.2  2.   0.  -0.2]\n",
      " [-0.2  0.   2.  -0.2]\n",
      " [ 0.  -0.2 -0.2 -2. ]]\n",
      "0b1 -2.0\n",
      "-0.3999999999999999\n",
      "0b10 -2.0\n",
      "0.3999999999999999\n",
      "0b11 -2.039607805437114\n",
      "0.0\n",
      "0b11 0.0\n",
      "2.039607805437114\n",
      "Exact Diag.:\n",
      "[-2.03960781 -2.          2.          2.03960781]\n",
      " Analytical Sol.:\n",
      "[-2.03960781 -0.4         0.4         2.03960781]\n",
      "Whether |ED-AS| < 1e-10:\n",
      "[ True False False  True]\n"
     ]
    }
   ],
   "metadata": {}
  },
  {
   "cell_type": "code",
   "execution_count": 80,
   "source": [
    "epsilon(J, g, 2 * 1/2* np.pi / 2)"
   ],
   "outputs": [
    {
     "output_type": "execute_result",
     "data": {
      "text/plain": [
       "1.019803902718557"
      ]
     },
     "metadata": {},
     "execution_count": 80
    }
   ],
   "metadata": {}
  },
  {
   "cell_type": "markdown",
   "source": [
    "# Time Evolution of Wave Packet\n",
    "\n",
    "Now let's consider another problem regarding time evolution.\n",
    "\n",
    "We put the wave packet in a tight-binding chain with a gradient field:\n",
    "$$\n",
    "H = -\\sum_{j=1}^N(\\ket{j}\\bra{j+1} + \\ket{j+1}\\bra{j}) + F\\sum_{j=1}^N\\ket{j}\\bra{j},\n",
    "$$\n",
    "$$\n",
    "\\ket{\\psi(t=0)} = \\frac{1}{\\sqrt{\\Omega}}\\sum_j e^{-(\\alpha^2/2)(j-N_0)^2} e^{ik_0j}\\ket{j},\n",
    "$$\n",
    "where we choose $N=101, F=0.1, k_0=\\pi/2, \\alpha=0.15, N_0=51, t\\in[0, 100]$."
   ],
   "metadata": {}
  },
  {
   "cell_type": "code",
   "execution_count": 30,
   "source": [
    "N = 101; F = 0.1; k0 = np.pi/2; alpha = 0.15; N0 = 51; tmax = 200"
   ],
   "outputs": [],
   "metadata": {}
  },
  {
   "cell_type": "code",
   "execution_count": 18,
   "source": [
    "# Hamiltonian\n",
    "length = N\n",
    "\n",
    "HFrom = []\n",
    "HTo = []\n",
    "HValue = []\n",
    "\n",
    "for fromBasis in range(length):\n",
    "\n",
    "    if fromBasis != N-1:\n",
    "        # H: off-diagonal\n",
    "        HFrom.append(fromBasis+1)\n",
    "        HTo.append(fromBasis)\n",
    "        HValue.append(-1)\n",
    "\n",
    "        HFrom.append(fromBasis)\n",
    "        HTo.append(fromBasis+1)\n",
    "        HValue.append(-1)\n",
    "\n",
    "    # H: diagonal\n",
    "    HFrom.append(fromBasis)\n",
    "    HTo.append(fromBasis)\n",
    "    HValue.append(F * fromBasis)\n",
    "\n",
    "H = sparse.coo_matrix((HValue, (HTo, HFrom)), shape=(length, length)).toarray()"
   ],
   "outputs": [],
   "metadata": {}
  },
  {
   "cell_type": "code",
   "execution_count": 19,
   "source": [
    "HEigVal, HEigVec = np.linalg.eig(H)"
   ],
   "outputs": [],
   "metadata": {}
  },
  {
   "cell_type": "markdown",
   "source": [
    "## State Vector\n",
    "\n",
    "After obtaining $E_n$ and $\\ket{E_n}$, we construct the initial state vector, a Gaussian wave packet."
   ],
   "metadata": {}
  },
  {
   "cell_type": "code",
   "execution_count": 20,
   "source": [
    "idx = np.arange(N)\n",
    "psi0 = np.exp(- alpha ** 2 / 2 * (idx - N0) ** 2) * np.exp(1j * k0 * idx)\n",
    "# normalize\n",
    "psi0 = psi0 / np.sqrt(np.abs(psi0))"
   ],
   "outputs": [],
   "metadata": {}
  },
  {
   "cell_type": "markdown",
   "source": [
    "## Evolution\n",
    "Now we change basis to $\\ket{E_n}$, in which each component evolves independently."
   ],
   "metadata": {}
  },
  {
   "cell_type": "code",
   "execution_count": 21,
   "source": [
    "# change basis to E\n",
    "psi0E = HEigVec.T @ psi0\n",
    "\n",
    "# evolution\n",
    "def evolute(psi0E, HEigVal, t):\n",
    "    return np.exp(-1j * HEigVal * t) * psi0E"
   ],
   "outputs": [],
   "metadata": {}
  },
  {
   "cell_type": "code",
   "execution_count": 22,
   "source": [
    "prob = np.zeros((tmax, N))\n",
    "for t in np.arange(0, tmax, 1):\n",
    "    psitE = evolute(psi0E, HEigVal, t)\n",
    "    psit = HEigVec @ psitE\n",
    "    prob[t] = np.abs(psit) ** 2"
   ],
   "outputs": [],
   "metadata": {}
  },
  {
   "cell_type": "markdown",
   "source": [
    "## Plotting\n",
    "Finally, we can visualize the evolution by plotting a heatmap.\n",
    "\n",
    "The horizontal axis represent different site, while the vertical axis represents time.\n",
    "\n",
    "The probability $|\\braket{j|\\psi}|^2$ is represented by the color, ranging from 0 to 1.\n",
    "\n",
    "The Bloch oscillation can be readily seen from the figure."
   ],
   "metadata": {}
  },
  {
   "cell_type": "code",
   "execution_count": 23,
   "source": [
    "plt.imshow(prob)\n",
    "plt.xlabel('Site')\n",
    "plt.ylabel('Time')\n",
    "plt.colorbar(label='Probability')\n",
    "plt.show()"
   ],
   "outputs": [
    {
     "output_type": "display_data",
     "data": {
      "image/png": "[encoded data removed]",
      "text/plain": [
       "<Figure size 432x288 with 2 Axes>"
      ]
     },
     "metadata": {
      "needs_background": "light"
     }
    }
   ],
   "metadata": {}
  },
  {
   "cell_type": "code",
   "execution_count": null,
   "source": [],
   "outputs": [],
   "metadata": {}
  }
 ],
 "metadata": {
  "orig_nbformat": 4,
  "language_info": {
   "name": "python",
   "version": "3.7.6",
   "mimetype": "text/x-python",
   "codemirror_mode": {
    "name": "ipython",
    "version": 3
   },
   "pygments_lexer": "ipython3",
   "nbconvert_exporter": "python",
   "file_extension": ".py"
  },
  "kernelspec": {
   "name": "python3",
   "display_name": "Python 3.7.6 64-bit ('anaconda3-2020.02': pyenv)"
  },
  "interpreter": {
   "hash": "c862a4ce86e039709e3354ffdc6ceb9fbb32fe5ca29adbe9320574fd9da68556"
  }
 },
 "nbformat": 4,
 "nbformat_minor": 2
}