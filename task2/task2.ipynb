{
 "cells": [
  {
   "cell_type": "markdown",
   "source": [
    "# Dispersion Relation of Transverse-field Ising Model and Time Evolution of Wave Packet\n",
    "\n",
    "This notebook has two parts. \n",
    "\n",
    "The first part presents a sample code for computing the dispersion relation of transverse-field ising model, and the numerical results are compared with analytical solutions obtained by Jodan-Wigner and Bogliubov transformation.\n",
    "\n",
    "The second part presents the time evolution of a Gaussian wave packet on a tight-binding chain with a gradient field, in which we can observe the Bloch oscillation."
   ],
   "metadata": {}
  },
  {
   "cell_type": "markdown",
   "source": [
    "# Dispersion Relation of Transverse-filed Ising Model\n",
    "\n",
    "Here we consider a transverse-field ising model on an N-site ring.\n",
    "\n",
    "The Hamiltonian is\n",
    "$$\n",
    "H = -J\\sum_{i=1}^N (g\\sigma_i^x+\\sigma_i^z\\sigma_{i+1}^z), i\\in \\mathbb{Z}_N\n",
    "$$\n",
    "\n",
    "where we take two sets of parameters $J=1, g=1.6$ and $J=1, g=0.6$."
   ],
   "metadata": {}
  },
  {
   "cell_type": "code",
   "execution_count": 1,
   "source": [
    "paramList = [(8, 1, 1.6), (8, 1, 0.6), (4, 1, 1.6), (4, 1, 0.6)]"
   ],
   "outputs": [],
   "metadata": {}
  },
  {
   "cell_type": "markdown",
   "source": [
    "## Basic Bit Operations\n",
    "\n",
    "First, let's define some basic bit operations for later use.\n"
   ],
   "metadata": {}
  },
  {
   "cell_type": "code",
   "execution_count": 2,
   "source": [
    "def countBinOnes(num):\n",
    "    return bin(num).count('1')\n",
    "\n",
    "def concatBins(left, right, leftShift=6):\n",
    "    return (left << leftShift) + right\n",
    "\n",
    "def splitBins(num, cutFromRight=6):\n",
    "    return num >> cutFromRight, num % (1 << cutFromRight)\n",
    "\n",
    "def readBit(num, n):\n",
    "    return (num & (1 << n)) >> n\n",
    "\n",
    "def flipBit(num, n):\n",
    "    return num ^ (1 << n)\n",
    "\n",
    "def pickBits(num, start, n):\n",
    "    return (num & ((2 ** n - 1) << start)) >> start\n",
    "\n",
    "def rotLBit(num, length, n):\n",
    "    return (pickBits(num, 0, length-n) << n) + (num >> (length-n))\n",
    "\n",
    "def rotRBit(num, length, n):\n",
    "    return (pickBits(num, 0, n) << (length - n)) + (num >> n)\n"
   ],
   "outputs": [],
   "metadata": {}
  },
  {
   "cell_type": "markdown",
   "source": [
    "## Constructing Hamiltonian and Translation Operator\n",
    "\n",
    "Now, we counstruct of the Hamiltonian $H$ and Translation Operator $T$ (e.g. $T\\ket{10100} = \\ket{01001}$).\n"
   ],
   "metadata": {}
  },
  {
   "cell_type": "code",
   "execution_count": 3,
   "source": [
    "import numpy as np\n",
    "from scipy import sparse\n",
    "\n",
    "def getHT(N, J, g):\n",
    "\n",
    "    length = 2 ** N\n",
    "\n",
    "    # Hamiltonian\n",
    "    HFrom = []\n",
    "    HTo = []\n",
    "    HValue = []\n",
    "\n",
    "    # Translation\n",
    "    TFrom = []\n",
    "    TTo = []\n",
    "    TValue = []\n",
    "\n",
    "    for fromBasis in range(length):\n",
    "\n",
    "        # H: off-diagonal\n",
    "        for pos in range(N):\n",
    "            HFrom.append(fromBasis)\n",
    "            HTo.append(flipBit(fromBasis, pos))\n",
    "            HValue.append(-J * g)\n",
    "\n",
    "        # H: diagonal\n",
    "        HFrom.append(fromBasis)\n",
    "        HTo.append(fromBasis)\n",
    "        shift = rotLBit(fromBasis, N, 1)\n",
    "        numDiff = bin(fromBasis ^ shift).count('1')\n",
    "        HValue.append(-J * (N - numDiff - numDiff))\n",
    "\n",
    "        # T:\n",
    "        TFrom.append(fromBasis)\n",
    "        TTo.append(rotLBit(fromBasis, N, 1))\n",
    "        TValue.append(1)\n",
    "\n",
    "    H = sparse.coo_matrix((HValue, (HTo, HFrom)), shape=(length, length)).toarray()\n",
    "    T = sparse.coo_matrix((TValue, (TTo, TFrom)), shape=(length, length)).toarray()\n",
    "\n",
    "    return H, T"
   ],
   "outputs": [],
   "metadata": {}
  },
  {
   "cell_type": "markdown",
   "source": [
    "## Diagonalizing (Using Linear Combinations to Avoid Degeneracies and Obtain Concurrent Eigenvectors)\n",
    "\n",
    "Since the Hamiltonian admits translational symmetry, we have $[H, T] = 0$. \n",
    "\n",
    "Therefore, there exists a set of basis states that can diagonalize $H$ and $T$ simultaneously. \n",
    "\n",
    "However, when using `numpy.linalg.eig`, we can only diagonalize one matrix at a time.\n",
    "\n",
    "**Due to degeneracies, if we do the diagonalization one by one in a specific order, the resulted eigenvectors from the last matrix may not be the eigenvectors of the next.**\n",
    "\n",
    "The same reason forbids us from getting concurrent eigenvectors by diagonalizing $HT$, since they might have intersected eigenspaces.\n",
    "\n",
    "Here we develop an ad-hoc method using linear combinations to avoid degeneracies.\n",
    "\n",
    "Specifically, we can diagonalize the linear combination $$H + xT, $$ and by tuning the parameter $x$, we can seperate $H$ & $T$'s eigenspaces, and obtain a set of concurrent eigenvectors.\n",
    "\n",
    "Here we take $x=1$ and diagonalize $H + T$ to obtain their concurrent eigen $\\ket{E, k}$:\n",
    "$$\n",
    "(H+T)\\ket{E, k} = (E+e^{ik})\\ket{E, k}\n",
    "$$\n",
    "\n",
    "However, there's a problem regarding the sign of the energy.\n",
    "\n",
    "But we can make use of the eigenvectors to obtain $E$ and $k$ seperately."
   ],
   "metadata": {}
  },
  {
   "cell_type": "code",
   "execution_count": 6,
   "source": [
    "def getDispersion(H, T):\n",
    "    HTEigVal, HTEigVec = np.linalg.eig(H + T)\n",
    "    E = np.real(np.diagonal(HTEigVec.conj().T @ H @ HTEigVec))\n",
    "    k = np.real(np.angle(np.diagonal(HTEigVec.conj().T @ T @ HTEigVec)))\n",
    "\n",
    "    return E, k"
   ],
   "outputs": [],
   "metadata": {}
  },
  {
   "cell_type": "markdown",
   "source": [
    "For $(N, J, g) = (8, 1, 1.6), (8, 1, 0.6), (4, 1, 1.6), (4, 1, 0.6)$, we can plot their dispersion relations:"
   ],
   "metadata": {}
  },
  {
   "cell_type": "code",
   "execution_count": 7,
   "source": [
    "import matplotlib.pyplot as plt\n",
    "%matplotlib inline\n",
    "for N, J, g in paramList:\n",
    "    H, T = getHT(N, J, g)\n",
    "    E, k = getDispersion(H, T)\n",
    "    plt.scatter(k, E)\n",
    "    plt.xlim(-np.pi, np.pi)\n",
    "    plt.xlabel(r'$k$')\n",
    "    plt.ylim(-16, 16)\n",
    "    plt.ylabel(r'$E(k)$')\n",
    "    plt.legend([f'$(N, J, g)=({N}, {J}, {g})$'])\n",
    "    plt.show()"
   ],
   "outputs": [
    {
     "output_type": "display_data",
     "data": {
      "image/png": "[encoded data removed]",
      "text/plain": [
       "<Figure size 432x288 with 1 Axes>"
      ]
     },
     "metadata": {
      "needs_background": "light"
     }
    },
    {
     "output_type": "display_data",
     "data": {
      "image/png": "[encoded data removed]",
      "text/plain": [
       "<Figure size 432x288 with 1 Axes>"
      ]
     },
     "metadata": {
      "needs_background": "light"
     }
    },
    {
     "output_type": "display_data",
     "data": {
      "image/png": "[encoded data removed]",
      "text/plain": [
       "<Figure size 432x288 with 1 Axes>"
      ]
     },
     "metadata": {
      "needs_background": "light"
     }
    },
    {
     "output_type": "display_data",
     "data": {
      "image/png": "[encoded data removed]",
      "text/plain": [
       "<Figure size 432x288 with 1 Axes>"
      ]
     },
     "metadata": {
      "needs_background": "light"
     }
    }
   ],
   "metadata": {}
  },
  {
   "cell_type": "markdown",
   "source": [
    "## Analytical Solution\n",
    "The analytical solution can be obtained by applying Jordan-Wigner and Bogliubov transformation.\n",
    "\n",
    "The result is as follows:\n",
    "$$\n",
    "H = \\sum_k \\epsilon_k \\gamma_k^\\dagger \\gamma_k - \\epsilon_0,\n",
    "$$\n",
    "where $\\gamma_k^\\dagger, \\gamma_k$ are creation and annihilation operaters of non interaction fermions (at most N of them), and\n",
    "$$\n",
    "\\epsilon_k = 2J\\sqrt{1+g^2-2g\\cos{k}},\n",
    "$$\n",
    "$$\n",
    "\\epsilon_0 = J\\sum_k\\sqrt{1+g^2-2g\\cos{k}}.\n",
    "$$\n",
    "Note that when $g > 1$, summation of $k$ takes $2\\pi/N$ times integers for odd number of fermions and half-integers for even number.\n",
    "\n",
    "When $g < 1$, summation takes only even number of fermions for both integer and half-integer $k$ s."
   ],
   "metadata": {}
  },
  {
   "cell_type": "code",
   "execution_count": 8,
   "source": [
    "def epsilon(J, g, k):\n",
    "    return J * np.sqrt(1 + g ** 2 - 2 * g * np.cos(k))"
   ],
   "outputs": [],
   "metadata": {}
  },
  {
   "cell_type": "code",
   "execution_count": 9,
   "source": [
    "def getAnalyticalSol(N, J, g):\n",
    "    kList=[\n",
    "        (np.arange(0, N, 1) + 1/2) * 2 * np.pi / N, # half-integer\n",
    "        np.arange(0, N, 1) * 2 * np.pi / N, # integer\n",
    "    ]\n",
    "\n",
    "    E = []\n",
    "    for ki in range(2):\n",
    "        for config in range(2 ** N):\n",
    "            energy = 0\n",
    "            if g > 1:\n",
    "                num = bin(config).count('1')\n",
    "                if not ki ^ (num % 2): # half-integer for even, integer for odd\n",
    "                    ks = kList[ki]\n",
    "                else: \n",
    "                    continue\n",
    "            \n",
    "            if g < 1:\n",
    "                num = bin(config).count('1')\n",
    "                if num % 2: # only even\n",
    "                    continue\n",
    "                ks = kList[ki]\n",
    "\n",
    "            energy -= np.sum(epsilon(J, g, ks))\n",
    "            # print(epsilon(J, g, ks))\n",
    "            # print('-e0', bin(config), energy)\n",
    "            for pos in range(N):\n",
    "                if readBit(config, pos):\n",
    "                    energy += 2 * epsilon(J, g, ks[pos])\n",
    "                    # print('+ek', bin(config), pos, energy)\n",
    "\n",
    "            E.append(energy)\n",
    "        \n",
    "    return np.sort(E)"
   ],
   "outputs": [],
   "metadata": {}
  },
  {
   "cell_type": "markdown",
   "source": [
    "## Compare Results\n",
    "Finally, we can compare the results from exact diagonalization and analytical solution."
   ],
   "metadata": {}
  },
  {
   "cell_type": "code",
   "execution_count": 10,
   "source": [
    "for N, J, g in [(4, 1, 1.6), (4, 1, 0.6)]:\n",
    "    H, T = getHT(N, J, g)\n",
    "    E, k = getDispersion(H, T)\n",
    "    EAS = getAnalyticalSol(N, J, g)\n",
    "    print(f\"Exact Diag.:\\n{np.sort(E)}\\n Analytical Sol.:\\n{EAS}\")\n",
    "    print(f\"Whether |ED-AS| < 1e-10:\\n{np.abs(np.sort(E)-EAS)<1e-10}\")"
   ],
   "outputs": [
    {
     "output_type": "stream",
     "name": "stdout",
     "text": [
      "Exact Diag.:\n",
      "[-7.10401652e+00 -5.77359245e+00 -3.20000000e+00 -3.20000000e+00\n",
      " -2.54812662e+00 -1.77359245e+00 -1.16489957e-17 -2.82913218e-18\n",
      " -6.17508847e-32 -6.17508847e-32  1.77359245e+00  2.54812662e+00\n",
      "  3.20000000e+00  3.20000000e+00  5.77359245e+00  7.10401652e+00]\n",
      " Analytical Sol.:\n",
      "[-7.10401652e+00 -5.77359245e+00 -3.20000000e+00 -3.20000000e+00\n",
      " -2.54812662e+00 -1.77359245e+00  0.00000000e+00  0.00000000e+00\n",
      "  4.44089210e-16  4.44089210e-16  1.77359245e+00  2.54812662e+00\n",
      "  3.20000000e+00  3.20000000e+00  5.77359245e+00  7.10401652e+00]\n",
      "Whether |ED-AS| < 1e-10:\n",
      "[ True  True  True  True  True  True  True  True  True  True  True  True\n",
      "  True  True  True  True]\n",
      "Exact Diag.:\n",
      "[-4.40256872e+00 -4.33238076e+00 -1.54187828e+00 -1.20000000e+00\n",
      " -1.20000000e+00 -3.32380758e-01 -2.06011412e-18 -3.31950663e-32\n",
      " -3.31950663e-32  2.26139885e-18  3.32380758e-01  1.20000000e+00\n",
      "  1.20000000e+00  1.54187828e+00  4.33238076e+00  4.40256872e+00]\n",
      " Analytical Sol.:\n",
      "[-4.40256872e+00 -4.33238076e+00 -1.54187828e+00 -1.20000000e+00\n",
      " -1.20000000e+00 -3.32380758e-01 -4.44089210e-16 -4.44089210e-16\n",
      " -2.22044605e-16 -2.22044605e-16  3.32380758e-01  1.20000000e+00\n",
      "  1.20000000e+00  1.54187828e+00  4.33238076e+00  4.40256872e+00]\n",
      "Whether |ED-AS| < 1e-10:\n",
      "[ True  True  True  True  True  True  True  True  True  True  True  True\n",
      "  True  True  True  True]\n"
     ]
    }
   ],
   "metadata": {}
  },
  {
   "cell_type": "markdown",
   "source": [
    "Excellent! Both exact diagonalization and analytical solution yield the same results!"
   ],
   "metadata": {}
  },
  {
   "cell_type": "markdown",
   "source": [
    "# Time Evolution of Wave Packet\n",
    "\n",
    "Now let's consider another problem regarding time evolution.\n",
    "\n",
    "We put the wave packet in a tight-binding chain with a gradient field:\n",
    "$$\n",
    "H = -\\sum_{j=1}^N(\\ket{j}\\bra{j+1} + \\ket{j+1}\\bra{j}) + F\\sum_{j=1}^N\\ket{j}\\bra{j},\n",
    "$$\n",
    "$$\n",
    "\\ket{\\psi(t=0)} = \\frac{1}{\\sqrt{\\Omega}}\\sum_j e^{-(\\alpha^2/2)(j-N_0)^2} e^{ik_0j}\\ket{j},\n",
    "$$\n",
    "where we choose $N=101, F=0.1, k_0=\\pi/2, \\alpha=0.15, N_0=51, t\\in[0, 100]$."
   ],
   "metadata": {}
  },
  {
   "cell_type": "code",
   "execution_count": 11,
   "source": [
    "N = 101; F = 0.1; k0 = np.pi/2; alpha = 0.15; N0 = 51; tmax = 100"
   ],
   "outputs": [],
   "metadata": {}
  },
  {
   "cell_type": "code",
   "execution_count": 12,
   "source": [
    "# Hamiltonian\n",
    "length = N\n",
    "\n",
    "HFrom = []\n",
    "HTo = []\n",
    "HValue = []\n",
    "\n",
    "for fromBasis in range(length):\n",
    "\n",
    "    if fromBasis != N-1:\n",
    "        # H: off-diagonal\n",
    "        HFrom.append(fromBasis+1)\n",
    "        HTo.append(fromBasis)\n",
    "        HValue.append(-1)\n",
    "\n",
    "        HFrom.append(fromBasis)\n",
    "        HTo.append(fromBasis+1)\n",
    "        HValue.append(-1)\n",
    "\n",
    "    # H: diagonal\n",
    "    HFrom.append(fromBasis)\n",
    "    HTo.append(fromBasis)\n",
    "    HValue.append(F * fromBasis)\n",
    "\n",
    "H = sparse.coo_matrix((HValue, (HTo, HFrom)), shape=(length, length)).toarray()"
   ],
   "outputs": [],
   "metadata": {}
  },
  {
   "cell_type": "code",
   "execution_count": 13,
   "source": [
    "HEigVal, HEigVec = np.linalg.eig(H)"
   ],
   "outputs": [],
   "metadata": {}
  },
  {
   "cell_type": "markdown",
   "source": [
    "## State Vector\n",
    "\n",
    "After obtaining $E_n$ and $\\ket{E_n}$, we construct the initial state vector, a Gaussian wave packet."
   ],
   "metadata": {}
  },
  {
   "cell_type": "code",
   "execution_count": 14,
   "source": [
    "idx = np.arange(N)\n",
    "psi0 = np.exp(- alpha ** 2 / 2 * (idx - N0) ** 2) * np.exp(1j * k0 * idx)\n",
    "# normalize\n",
    "psi0 = psi0 / np.sqrt(np.abs(psi0))"
   ],
   "outputs": [],
   "metadata": {}
  },
  {
   "cell_type": "markdown",
   "source": [
    "## Evolution\n",
    "Now we change basis to $\\ket{E_n}$, in which each component evolves independently:\n",
    "$$\n",
    "\\braket{E_n|\\psi(t)} = e^{-iE_nt}\\braket{E_n|\\psi(0)}\n",
    "$$"
   ],
   "metadata": {}
  },
  {
   "cell_type": "code",
   "execution_count": 15,
   "source": [
    "# change basis to E\n",
    "psi0E = HEigVec.T @ psi0\n",
    "\n",
    "# evolution\n",
    "def evolute(psi0E, HEigVal, t):\n",
    "    return np.exp(-1j * HEigVal * t) * psi0E"
   ],
   "outputs": [],
   "metadata": {}
  },
  {
   "cell_type": "code",
   "execution_count": 16,
   "source": [
    "prob = np.zeros((tmax, N))\n",
    "for t in np.arange(0, tmax, 1):\n",
    "    psitE = evolute(psi0E, HEigVal, t)\n",
    "    psit = HEigVec @ psitE\n",
    "    prob[t] = np.abs(psit) ** 2"
   ],
   "outputs": [],
   "metadata": {}
  },
  {
   "cell_type": "markdown",
   "source": [
    "## Plotting\n",
    "Finally, we can visualize the evolution by plotting a heatmap.\n",
    "\n",
    "The horizontal axis represent different site, while the vertical axis represents time.\n",
    "\n",
    "The probability $|\\braket{j|\\psi}|^2$ is represented by the color, ranging from 0 to 1.\n",
    "\n",
    "The Bloch oscillation can be readily seen from the figure."
   ],
   "metadata": {}
  },
  {
   "cell_type": "code",
   "execution_count": 17,
   "source": [
    "plt.imshow(prob)\n",
    "plt.xlabel('Site')\n",
    "plt.ylabel('Time')\n",
    "plt.colorbar(label='Probability')\n",
    "plt.show()"
   ],
   "outputs": [
    {
     "output_type": "display_data",
     "data": {
      "image/png": "[encoded data removed]",
      "text/plain": [
       "<Figure size 432x288 with 2 Axes>"
      ]
     },
     "metadata": {
      "needs_background": "light"
     }
    }
   ],
   "metadata": {}
  },
  {
   "cell_type": "markdown",
   "source": [
    "## Evolution by Direct Exponentiation\n",
    "\n",
    "We can also compute the time evolution directly by exponentiating the matrix $H$:\n",
    "$$\n",
    "\\ket{\\psi(t)} = e^{-iHt}\\ket{\\psi(0)}\n",
    "$$"
   ],
   "metadata": {}
  },
  {
   "cell_type": "code",
   "execution_count": 18,
   "source": [
    "from scipy.linalg import expm\n",
    "def evoluteDirect(psi0, H, t):\n",
    "    return expm(- 1j * H * t) @ psi0\n",
    "\n",
    "prob = np.zeros((tmax, N))\n",
    "for t in np.arange(0, tmax, 1):\n",
    "    psit = evoluteDirect(psi0, H, t)\n",
    "    prob[t] = np.abs(psit) ** 2\n",
    "\n",
    "plt.imshow(prob)\n",
    "plt.xlabel('Site')\n",
    "plt.ylabel('Time')\n",
    "plt.colorbar(label='Probability')\n",
    "plt.show()"
   ],
   "outputs": [],
   "metadata": {}
  },
  {
   "cell_type": "markdown",
   "source": [
    "However, direct exponetiation takes considerably longer time compared to computing evolution in the energy representation.\n",
    "\n",
    "E.g., for $t=1000$, it's 1000 times slower."
   ],
   "metadata": {}
  },
  {
   "cell_type": "code",
   "execution_count": 20,
   "source": [
    "%timeit evolute(psi0E, HEigVal, 1000)"
   ],
   "outputs": [
    {
     "output_type": "stream",
     "name": "stdout",
     "text": [
      "5.31 µs ± 258 ns per loop (mean ± std. dev. of 7 runs, 100000 loops each)\n"
     ]
    }
   ],
   "metadata": {}
  },
  {
   "cell_type": "code",
   "execution_count": 21,
   "source": [
    "%timeit evoluteDirect(psi0, H, 1000)"
   ],
   "outputs": [
    {
     "output_type": "stream",
     "name": "stdout",
     "text": [
      "4.4 ms ± 36.4 µs per loop (mean ± std. dev. of 7 runs, 100 loops each)\n"
     ]
    }
   ],
   "metadata": {}
  }
 ],
 "metadata": {
  "orig_nbformat": 4,
  "language_info": {
   "name": "python",
   "version": "3.7.6",
   "mimetype": "text/x-python",
   "codemirror_mode": {
    "name": "ipython",
    "version": 3
   },
   "pygments_lexer": "ipython3",
   "nbconvert_exporter": "python",
   "file_extension": ".py"
  },
  "kernelspec": {
   "name": "python3",
   "display_name": "Python 3.7.6 64-bit ('anaconda3-2020.02': pyenv)"
  },
  "interpreter": {
   "hash": "c862a4ce86e039709e3354ffdc6ceb9fbb32fe5ca29adbe9320574fd9da68556"
  }
 },
 "nbformat": 4,
 "nbformat_minor": 2
}