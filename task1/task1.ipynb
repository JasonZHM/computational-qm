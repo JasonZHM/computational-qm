{
 "cells": [
  {
   "cell_type": "markdown",
   "source": [
    "# Exact Diagonalization of Hubbard Model\n",
    "\n",
    "## Task\n",
    "\n",
    "This notebook presents a sample code for diagonalizing the Hubbard model on a 6-site ladder:\n",
    "\n",
    "<img src=\"./ladder.png\" width=\"10%\"/>\n",
    "\n",
    "The Hamiltonian is as follows:\n",
    "$$ H = -t\\sum_{\\{i, j\\}, \\sigma} (C^\\dagger_{i,\\sigma}C_{j,\\sigma} + C^\\dagger_{j,\\sigma}C_{i,\\sigma}) + U\\sum_{i} n_{i\\uparrow}n_{i\\downarrow} + V\\sum_{\\{\\{i, j\\}\\}}(n_{i\\uparrow}+n_{i\\downarrow})(n_{j\\uparrow}+n_{j\\downarrow})$$\n",
    "where for this ladder we have\n",
    "$$ \\{i, j\\} \\in (0, 1), (2, 3), (4, 5), (0, 2), (2, 4), (1, 3), (3, 5)\\\\\n",
    "\\{\\{i, j\\}\\} \\in (0, 3), (2, 1), (2, 5), (4, 3) $$\n",
    "and we take $t=1.0, U=1.3, V=-0.4.$\n",
    "\n",
    "Our goal is to find the lowest 20 energy eigenvalues.\n"
   ],
   "metadata": {}
  },
  {
   "cell_type": "markdown",
   "source": [
    "## Basic Bit Operations\n",
    "\n",
    "First, let's define some basic bit operations for later use.\n"
   ],
   "metadata": {}
  },
  {
   "cell_type": "code",
   "execution_count": 1,
   "source": [
    "def countBinOnes(num):\n",
    "    return bin(num).count('1')\n",
    "\n",
    "def concatBins(left, right, leftShift=6):\n",
    "    return (left << leftShift) + right\n",
    "\n",
    "def splitBins(num, cutFromRight=6):\n",
    "    return num >> cutFromRight, num % (1 << cutFromRight)\n",
    "\n",
    "def readBit(num, n):\n",
    "    return (num & (1 << n)) >> n\n",
    "\n",
    "def flipBit(num, n):\n",
    "    return num ^ (1 << n)\n",
    "\n",
    "def pickBits(num, start, n):\n",
    "    return (num & ((2 ** n - 1) << start)) >> start"
   ],
   "outputs": [],
   "metadata": {}
  },
  {
   "cell_type": "markdown",
   "source": [
    "## $U(1)$ & $Z_2$ Symmetry\n",
    "\n",
    "We now use $U(1)$ symmetry to block-diagonalize $H$, dividing all possible $4^6=4096$ configurations into \n",
    "$$4096 = \\sum_{0\\le u\\le 6, 0\\le d \\le 6} \\binom{6}{u}\\binom{6}{d}_{u\\uparrow d\\downarrow},$$\n",
    "each having $u$ ups, $d$ downs and $6-u-d$ empty slots.\n",
    "\n",
    "Further using $Z_2$ symmetry (exchanging ups and downs), we have:\n",
    "$$4096 = 2\\sum_{0\\le d < u\\le 6} \\binom{6}{u}\\binom{6}{d}_{u\\uparrow d\\downarrow} + \\sum_{0\\le u \\le 6} \\binom{6}{u}\\binom{6}{u}_{u\\uparrow u\\downarrow} ,$$\n",
    "leaving us at last $\\frac{6\\times 7}{2} + 6 = 21 + 6$ different small block matrices to diagonalize."
   ],
   "metadata": {}
  },
  {
   "cell_type": "markdown",
   "source": [
    "## Basis Representation\n",
    "\n",
    "For $u$ ups, $d$ downs and $6-u-d$ empty slots, we adopt the convention that all spin-up fermions are put on the left side of spin-down fermions, and a state can be represented by a binary string of length 12. For example ($u=3, d=2$):\n",
    "$$ C^\\dagger_{0u}C^\\dagger_{2u}C^\\dagger_{3u}C^\\dagger_{1d}C^\\dagger_{3d}\\ket{0} = \\ket{001010_d~001101_u}.$$\n"
   ],
   "metadata": {}
  },
  {
   "cell_type": "markdown",
   "source": [
    "## Lookup\n",
    "\n",
    "To block diagonalize, we need a lookup function to locate a basis in its subspace. \n",
    "\n",
    "We build two tables, `tableToSub` and `tableFromSub`, to translate between subspace representation `[num of ups, num of downs, index]` and binary strings.\n"
   ],
   "metadata": {}
  },
  {
   "cell_type": "code",
   "execution_count": 2,
   "source": [
    "import numpy as np\n",
    "def C(n,r):\n",
    "    f = np.math.factorial\n",
    "    return f(n) / f(r) / f(n-r)"
   ],
   "outputs": [],
   "metadata": {}
  },
  {
   "cell_type": "code",
   "execution_count": 3,
   "source": [
    "def makeLookupTable():\n",
    "    countUD = np.zeros((6+1, 6+1), dtype=int)\n",
    "\n",
    "    tableToSub = [None for i in range(4**6)]\n",
    "    tableFromSub = np.zeros((6+1, 6+1, int(C(6, 3))**2), dtype=int)\n",
    "\n",
    "    for u in range(2**6):\n",
    "        for d in range(2**6):\n",
    "            numU = countBinOnes(u)\n",
    "            numD = countBinOnes(d)\n",
    "\n",
    "            du = concatBins(d, u, 6)\n",
    "\n",
    "            subInfo = [numU, numD, countUD[numU, numD]]\n",
    "            tableToSub[du] = subInfo\n",
    "            tableFromSub[numU, numD, countUD[numU, numD]] = du\n",
    "\n",
    "            countUD[numU, numD] += 1\n",
    "            \n",
    "    return tableToSub, tableFromSub, countUD\n",
    "\n",
    "tableToSub, tableFromSub, subSpaceDim = makeLookupTable()"
   ],
   "outputs": [],
   "metadata": {}
  },
  {
   "cell_type": "markdown",
   "source": [
    "## Constructing and Diagonalizing Hamiltonian\n",
    "\n",
    "We now turn to the counstruction of each block Hamiltonian matrix.\n",
    "\n",
    "First, we construct $\\{i, j\\}$ and $\\{\\{i, j\\}\\}$."
   ],
   "metadata": {}
  },
  {
   "cell_type": "code",
   "execution_count": 4,
   "source": [
    "ij = [(0, 1), (2, 3), (4, 5), (0, 2), (2, 4), (1, 3), (3, 5)] # i < j\n",
    "iijj = [(0, 3), (2, 1), (2, 5), (4, 3)]\n",
    "t = 1.0; U = 1.3; V = -0.4"
   ],
   "outputs": [],
   "metadata": {}
  },
  {
   "cell_type": "markdown",
   "source": [
    "Next, we construct and diagonalize the Hamiltonian for each $(u, d)$.\n",
    "Note that the Hamiltonian consists of two parts:\n",
    "\n",
    "1. Off-diagonal: $-t\\sum_{\\{i, j\\}, \\sigma} (C^\\dagger_{i,\\sigma}C_{j,\\sigma} + C^\\dagger_{j,\\sigma}C_{i,\\sigma})$\n",
    "2. Diagonal: $U\\sum_{i} n_{i\\uparrow}n_{i\\downarrow} + V\\sum_{\\{\\{i, j\\}\\}}(n_{i\\uparrow}+n_{i\\downarrow})(n_{j\\uparrow}+n_{j\\downarrow})$\n",
    "\n",
    "Furthermore, the anti-commutation relation of fermionic creation and annihilation operators must be taken with great care."
   ],
   "metadata": {}
  },
  {
   "cell_type": "code",
   "execution_count": 5,
   "source": [
    "from scipy import sparse\n",
    "\n",
    "eigenvalues = []\n",
    "for u in range(6 + 1):\n",
    "    for d in range(u + 1):\n",
    "\n",
    "        HTo = []\n",
    "        HFrom = []\n",
    "        HValue = []\n",
    "\n",
    "        for subFromBasis in range(subSpaceDim[u, d]):\n",
    "            fromBasis = tableFromSub[u, d, subFromBasis]\n",
    "            binD, binU = splitBins(fromBasis)\n",
    "            \n",
    "            # off-diagonal terms\n",
    "            for i, j in ij:\n",
    "                if readBit(binU, i) ^ readBit(binU, j):\n",
    "                    HFrom.append(subFromBasis)\n",
    "                    HTo.append(tableToSub[concatBins(binD, flipBit(flipBit(binU, i), j))][-1])\n",
    "                    if readBit(binU, i):\n",
    "                        HValue.append((-1) * (-t) * (-1)**(bin(pickBits(binU, 0, i)).count('1') + bin(pickBits(binU, 0, j)).count('1')))\n",
    "                    else:\n",
    "                        HValue.append(-t * (-1)**(bin(pickBits(binU, 0, i)).count('1') + bin(pickBits(binU, 0, j)).count('1')))\n",
    "\n",
    "                if readBit(binD, i) ^ readBit(binD, j):\n",
    "                    HFrom.append(subFromBasis)\n",
    "                    HTo.append(tableToSub[concatBins(flipBit(flipBit(binD, i), j), binU)][-1])\n",
    "                    if readBit(binD, i):\n",
    "                        HValue.append((-1) * (-t) * (-1)**(bin(pickBits(binD, 0, i)).count('1') + bin(pickBits(binD, 0, j)).count('1')))\n",
    "                    else:\n",
    "                        HValue.append(-t * (-1)**(bin(pickBits(binD, 0, i)).count('1') + bin(pickBits(binD, 0, j)).count('1')))\n",
    "\n",
    "            # diagonal terms\n",
    "            HFrom.append(subFromBasis)\n",
    "            HTo.append(subFromBasis)\n",
    "            diag = U * bin(binD & binU).count('1')\n",
    "            for i, j in iijj:\n",
    "                diag += V * (readBit(binD, i) + readBit(binU, i)) * (readBit(binD, j) + readBit(binU, j))\n",
    "\n",
    "            HValue.append(diag)\n",
    "        \n",
    "        # construct the Hamiltonian\n",
    "        H = sparse.coo_matrix((HValue, (HTo, HFrom)), shape=(subSpaceDim[u, d], subSpaceDim[u, d])).tocsc()\n",
    "\n",
    "        # diagonalize\n",
    "        # making use of Z_2 symmetry\n",
    "        if u == d:\n",
    "            eigenvalues += np.real(np.linalg.eig(H.toarray())[0]).tolist()\n",
    "        else:\n",
    "            eigenvalues += np.real(np.linalg.eig(H.toarray())[0]).tolist() * 2\n",
    "        "
   ],
   "outputs": [],
   "metadata": {}
  },
  {
   "cell_type": "markdown",
   "source": [
    "Now we can sort the list and find the lowest 20 energy eigenvalues:\n"
   ],
   "metadata": {}
  },
  {
   "cell_type": "code",
   "execution_count": 6,
   "source": [
    "print(sorted(eigenvalues)[:20])"
   ],
   "outputs": [
    {
     "output_type": "stream",
     "name": "stdout",
     "text": [
      "[-7.545086897958434, -7.146815786445275, -7.146815786445275, -7.011488775864684, -7.011488775864684, -6.850656697153924, -6.850656697153883, -6.850656697153883, -6.739803377152178, -6.739803377152178, -6.660322380974283, -6.468360576966555, -6.41936847170763, -6.3938282455948166, -6.393828245594808, -6.393828245594808, -6.382465702357777, -6.382465702357777, -6.379674497979439, -6.379674497979439]\n"
     ]
    }
   ],
   "metadata": {}
  },
  {
   "cell_type": "markdown",
   "source": [
    "It can be readily seen here that the $Z_2$ symmetry can protect degeneracies from numerical instability."
   ],
   "metadata": {}
  }
 ],
 "metadata": {
  "orig_nbformat": 4,
  "language_info": {
   "name": "python",
   "version": "3.7.6",
   "mimetype": "text/x-python",
   "codemirror_mode": {
    "name": "ipython",
    "version": 3
   },
   "pygments_lexer": "ipython3",
   "nbconvert_exporter": "python",
   "file_extension": ".py"
  },
  "kernelspec": {
   "name": "python3",
   "display_name": "Python 3.7.6 64-bit ('anaconda3-2020.02': pyenv)"
  },
  "interpreter": {
   "hash": "c862a4ce86e039709e3354ffdc6ceb9fbb32fe5ca29adbe9320574fd9da68556"
  }
 },
 "nbformat": 4,
 "nbformat_minor": 2
}