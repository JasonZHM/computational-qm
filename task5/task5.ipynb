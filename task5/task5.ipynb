{
 "cells": [
  {
   "cell_type": "markdown",
   "metadata": {},
   "source": [
    "# Variational MPS and iTEBD for Three-body Spin Model\n",
    "\n",
    "This notebook contains code for two different approaches to obtain ground state of a three-body spin model, namely:\n",
    "1. variational matrix product state method (variational MPS),\n",
    "2. infinite-time evolving block decimation method (iTEBD).\n",
    "\n",
    "The model we are interested in is of the following Hamiltonian:\n",
    "$$\n",
    "H = -\\sum_j (\\sigma_{j-1}^z \\sigma_{j}^x \\sigma_{j+1}^z + \\sigma_j^y).\n",
    "$$\n",
    "And we would like to investigate the ground state of this model on a $N=10$ lattice with open boundary condition using 2-site variational MPS method and on an infinite length lattice using 3-site iTEBD method."
   ]
  },
  {
   "cell_type": "markdown",
   "metadata": {},
   "source": [
    "# Variational MPS\n",
    "\n",
    "Firstly, let's give variational MPS a try.\n",
    "\n",
    "## MPO form of Hamiltonian\n",
    "\n",
    "To implement variational MPS, we shall construct the matrix product operator (MPO) first.\n",
    "\n",
    "The MPO for this model is\n",
    "$$\n",
    "M = \\begin{pmatrix}\n",
    "I &-\\sigma^z &0 &-\\sigma^y\\\\\n",
    "0 &0 &\\sigma^x &0\\\\\n",
    "0 &0 &0 &\\sigma^z\\\\\n",
    "0 &0 &0 &I\n",
    "\\end{pmatrix}.\n",
    "$$\n",
    "Let's implement this."
   ]
  },
  {
   "cell_type": "code",
   "execution_count": 1,
   "metadata": {},
   "outputs": [],
   "source": [
    "import numpy as np\n",
    "\n",
    "Sx = np.array([[0, 1], [1, 0]])\n",
    "Sy = np.array([[0, -1j], [1j, 0]])\n",
    "Sz = np.array([[1, 0], [0, -1]])\n",
    "I = np.eye(2)\n",
    "\n",
    "mpo = np.zeros((4, 2, 4, 2), dtype=complex)\n",
    "mpo[0, :, 0, :] = I\n",
    "mpo[0, :, 1, :] = -Sz\n",
    "mpo[0, :, 3, :] = -Sy\n",
    "mpo[1, :, 2, :] = Sx\n",
    "mpo[2, :, 3, :] = Sz\n",
    "mpo[3, :, 3, :] = I"
   ]
  },
  {
   "cell_type": "markdown",
   "metadata": {},
   "source": [
    "## State Initialization\n",
    "\n",
    "The second thing we shall do is to define a matrix product state and initialize it."
   ]
  },
  {
   "cell_type": "code",
   "execution_count": 2,
   "metadata": {},
   "outputs": [],
   "source": [
    "# import subroutines for tensor manipulation\n",
    "import sys\n",
    "sys.path.append(\"..\")\n",
    "from sample_code.vMPS_iTEBD import Sub180221 as Sub\n",
    "\n",
    "def init_mps(n_site, dim_phys, dim_bond):\n",
    "    mps = [None] * n_site\n",
    "    for i in range(n_site):\n",
    "        dim_left = min(dim_phys ** i, dim_phys ** (n_site - i), dim_bond)\n",
    "        dim_right = min(dim_phys ** (i+1), dim_phys ** (n_site-1-i), dim_bond)\n",
    "        mps[i] = np.random.rand(dim_left, dim_phys, dim_right)\n",
    "    \n",
    "    # canonicalize\n",
    "    U = np.eye(np.shape(mps[-1])[-1])\n",
    "    for i in range(n_site - 1, 0, -1):\n",
    "        U, mps[i] = Sub.Mps_LQP(mps[i], U)\n",
    "    \n",
    "    return mps"
   ]
  },
  {
   "cell_type": "markdown",
   "metadata": {},
   "source": [
    "## Environment Initialization\n",
    "\n",
    "The third step is to multiply out all the MPOs and sandwitch it with the MPS to obtain the whole tensor.\n",
    "\n",
    "This step is called environment initialization (i.e. all the tensors in $\\bra{\\psi}H\\ket{\\psi}$)."
   ]
  },
  {
   "cell_type": "code",
   "execution_count": 3,
   "metadata": {},
   "outputs": [],
   "source": [
    "def initH(mpo, mps):\n",
    "    n_site = len(mps)\n",
    "    dim_mpo = np.shape(mpo)[0]\n",
    "    \n",
    "    H_left = [None] * n_site\n",
    "    H_right = [None] * n_site\n",
    "    \n",
    "    H_left[0] = np.zeros((1, dim_mpo, 1))\n",
    "    H_left[0][0, 0, 0] = 1\n",
    "    H_right[-1] = np.zeros((1, dim_mpo, 1))\n",
    "    H_right[-1][0, -1, 0] = 1\n",
    "    \n",
    "    for i in range(n_site - 1, 0, -1):\n",
    "        H_right[i - 1] = Sub.NCon([H_right[i], mps[i], mpo, np.conj(mps[i])], \n",
    "        [[1, 3, 5], [-1, 2, 1], [-2, 2, 3, 4], [-3, 4, 5]])\n",
    "    \n",
    "    return H_left, H_right"
   ]
  },
  {
   "cell_type": "markdown",
   "metadata": {},
   "source": [
    "## Site Update\n",
    "\n",
    "The final step is to update each two site in an iterative manner and obtain the ground state in covergence.\n",
    "\n",
    "We implement the two site update precedure first and then carry out the sweeping.\n",
    "\n",
    "For the two site update precedure, we can generalize it to **arbitrary n sites** update precedure as below."
   ]
  },
  {
   "cell_type": "code",
   "execution_count": 4,
   "metadata": {},
   "outputs": [],
   "source": [
    "import scipy.sparse.linalg as LAs\n",
    "\n",
    "def update_sites(mpo, H_left, H_right, site_tensor_list, reverse=False):\n",
    "    '''\n",
    "    Update arbitrary n consecutive sites in the MPS\n",
    "    '''\n",
    "    shape_site_tensor_list = list(map(np.shape, site_tensor_list))\n",
    "    dim_site_tensor_list = list(map(lambda x: x[1], shape_site_tensor_list))\n",
    "    n_sites = len(shape_site_tensor_list)\n",
    "    \n",
    "    # contract and minimize energy\n",
    "    contract_rule = [[-1, 1, -(n_sites + 3)]] + \\\n",
    "                    [[i, -(n_sites + 3 + i), i + 1, -(1 + i)] for i in range(1, n_sites + 1)] + \\\n",
    "                    [[-(2 * n_sites + 4), n_sites + 1, -(n_sites + 2)]]\n",
    "    H_eff = Sub.NCon([H_left] + [mpo] * n_sites + [H_right], contract_rule)\n",
    "    H_eff = Sub.Group(H_eff, [[i for i in range(n_sites + 2)], [i for i in range(n_sites + 2, 2 * n_sites + 4)]])\n",
    "    eigval, eigvec = LAs.eigsh(H_eff, k=1, which='SA')\n",
    "\n",
    "    # update tensor\n",
    "    if not reverse:\n",
    "        # left to right\n",
    "        updated_site_tensor = np.reshape(eigvec, [H_left.shape[-1]] + dim_site_tensor_list + [H_right.shape[0]])\n",
    "        updated_site_tensor_list = [None] * n_sites\n",
    "        for i in range(n_sites - 1):\n",
    "            svd_tensor = Sub.Group(updated_site_tensor, [[0, 1], list(range(2, len(updated_site_tensor.shape)))])\n",
    "            u, s, v = np.linalg.svd(svd_tensor, full_matrices=False)\n",
    "            dim_trunc = min(len(s), shape_site_tensor_list[i][-1])\n",
    "            u = u[:, :dim_trunc]; s = s[:dim_trunc]; v = v[:dim_trunc, :]\n",
    "            updated_site_tensor_list[i] = u.reshape(shape_site_tensor_list[i])\n",
    "            updated_site_tensor = np.diag(s) @ v\n",
    "        updated_site_tensor_list[-1] = updated_site_tensor.reshape(shape_site_tensor_list[-1])\n",
    "    else:\n",
    "        # right to left\n",
    "        updated_site_tensor = np.reshape(eigvec, [H_left.shape[0]] + dim_site_tensor_list + [H_right.shape[-1]])\n",
    "        updated_site_tensor_list = [None] * n_sites\n",
    "        for i in range(n_sites - 1, 0, -1):\n",
    "            svd_tensor = Sub.Group(updated_site_tensor, [list(range(len(updated_site_tensor.shape) - 2)), [len(updated_site_tensor.shape) - 2, len(updated_site_tensor.shape) - 1]])\n",
    "            u, s, v = np.linalg.svd(svd_tensor, full_matrices=False)\n",
    "            dim_trunc = min(len(s), shape_site_tensor_list[i][0])\n",
    "            u = u[:, :dim_trunc]; s = s[:dim_trunc]; v = v[:dim_trunc, :]\n",
    "            updated_site_tensor_list[i] = v.reshape(shape_site_tensor_list[i])\n",
    "            updated_site_tensor = u @ np.diag(s)\n",
    "        updated_site_tensor_list[0] = updated_site_tensor.reshape(shape_site_tensor_list[0])\n",
    "    \n",
    "    return updated_site_tensor_list, eigval"
   ]
  },
  {
   "cell_type": "markdown",
   "metadata": {},
   "source": [
    "Now we can implement the sweeping precedure.\n",
    "\n",
    "Here we update two sites per step."
   ]
  },
  {
   "cell_type": "code",
   "execution_count": 16,
   "metadata": {},
   "outputs": [],
   "source": [
    "def sweep(n_iter, mpo, H_left, H_right, mps):\n",
    "    n_sites = len(mps)\n",
    "    eig0 = np.zeros(n_sites)\n",
    "    eig1 = np.zeros(n_sites)\n",
    "    \n",
    "    for r in range(n_iter):\n",
    "        print(f'Iteration {r}:')\n",
    "    \n",
    "        for i in range(n_sites - 1):\n",
    "            mps[i:i+2], eig1[i] = update_sites(mpo, H_left[i], H_right[i+1], mps[i:i+2], reverse=False)\n",
    "            mps[i], U = Sub.Mps_QR0P(mps[i])\n",
    "            H_left[i+1] = Sub.NCon([H_left[i], np.conj(mps[i]), mpo, mps[i]], \n",
    "                            [[1, 3, 5], [1, 2, -1], [3, 4, -2, 2], [5, 4, -3]])\n",
    "            mps[i+1] = np.tensordot(U, mps[i+1], (1, 0))\n",
    "        \n",
    "        for i in range(n_sites - 1, 1, -1):\n",
    "            mps[i-1:i+1], eig1[i] = update_sites(mpo, H_left[i-1], H_right[i], mps[i-1:i+1], reverse=True)\n",
    "            U, mps[i] = Sub.Mps_LQ0P(mps[i])\n",
    "            H_right[i-1] = Sub.NCon([H_right[i], mps[i], mpo, np.conj(mps[i])], \n",
    "                            [[1, 3, 5], [-1, 2, 1], [-2, 2, 3, 4], [-3, 4, 5]])\n",
    "            mps[i-1] = np.tensordot(mps[i-1], U, (2,0))\n",
    "        \n",
    "        print(eig1)\n",
    "        if (abs(eig1 - eig0) < 1.0e-7).all():\n",
    "            break\n",
    "        eig0 = eig1.copy()\n",
    "    \n",
    "    print(f'energy per site: {eig1/n_sites}')\n",
    "\n",
    "    return mps"
   ]
  },
  {
   "cell_type": "markdown",
   "metadata": {},
   "source": [
    "## Demo\n",
    "\n",
    "Now let's demonstrate this approach by calculating the ground state energy, magnetization $\\langle \\sigma^z_i\\rangle$ and $\\langle \\sigma^x_i\\rangle$ on our model.\n",
    "\n",
    "We choose `dim_bond = 4, 6`."
   ]
  },
  {
   "cell_type": "code",
   "execution_count": 17,
   "metadata": {},
   "outputs": [
    {
     "name": "stdout",
     "output_type": "stream",
     "text": [
      "dim_bond = 4:\n",
      "##################################################\n",
      "Iteration 0:\n",
      "[ -4.61777889  -5.65328729 -11.48597565 -11.48639315 -11.48612377\n",
      " -11.48353673 -11.48078361 -11.46715414 -11.46679599 -11.46679599]\n",
      "Iteration 1:\n",
      "[-11.48597565 -11.48597565 -11.48597513 -11.4863943  -11.48660147\n",
      " -11.48666684 -11.4866028  -11.48639636 -11.48597733 -11.48597733]\n",
      "Iteration 2:\n",
      "[-11.48597513 -11.48597513 -11.48597502 -11.4863942  -11.48660113\n",
      " -11.48666585 -11.48660113 -11.4863942  -11.48597503 -11.48597503]\n",
      "Iteration 3:\n",
      "[-11.48597502 -11.48597502 -11.48597502 -11.4863942  -11.48660113\n",
      " -11.48666585 -11.48660113 -11.4863942  -11.48597502 -11.48597502]\n",
      "Iteration 4:\n",
      "[-11.48597502 -11.48597502 -11.48597502 -11.4863942  -11.48660113\n",
      " -11.48666585 -11.48660113 -11.4863942  -11.48597502 -11.48597502]\n",
      "energy per site: [-1.1485975  -1.1485975  -1.1485975  -1.14863942 -1.14866011 -1.14866659\n",
      " -1.14866011 -1.14863942 -1.1485975  -1.1485975 ]\n",
      "<s^z_i> = [-9.37245777e-14  2.89257748e-13 -3.64948790e-13 -1.13185301e-13\n",
      "  2.76314770e-13 -1.72160386e-13 -1.28603698e-13  5.81702451e-13\n",
      " -1.21871792e-12 -4.63447331e-13]\n",
      "<s^x_i> = [ 4.04651518e-16 -5.63255716e-16 -1.33255263e-15  9.25819727e-16\n",
      " -1.41113974e-15  2.09101346e-15 -2.61343030e-16 -1.49923947e-16\n",
      "  4.32980189e-15 -9.57177208e-16]\n",
      "dim_bond = 6:\n",
      "##################################################\n",
      "Iteration 0:\n",
      "[ -4.42769067  -5.76405066 -11.48870123 -11.48878213 -11.48845624\n",
      " -11.4882319  -11.48490982 -11.48310507 -11.48303185 -11.48303185]\n",
      "Iteration 1:\n",
      "[-11.48870123 -11.48870123 -11.48870695 -11.48878788 -11.48886591\n",
      " -11.48888721 -11.48886587 -11.48878784 -11.4887069  -11.4887069 ]\n",
      "Iteration 2:\n",
      "[-11.48870695 -11.48870695 -11.48870695 -11.48878788 -11.48886592\n",
      " -11.48888725 -11.48886592 -11.48878788 -11.48870695 -11.48870695]\n",
      "Iteration 3:\n",
      "[-11.48870695 -11.48870695 -11.48870695 -11.48878788 -11.48886592\n",
      " -11.48888725 -11.48886592 -11.48878788 -11.48870695 -11.48870695]\n",
      "energy per site: [-1.14887069 -1.14887069 -1.14887069 -1.14887879 -1.14888659 -1.14888873\n",
      " -1.14888659 -1.14887879 -1.14887069 -1.14887069]\n",
      "<s^z_i> = [ 6.08087415e-11 -2.18980947e-09 -7.86230081e-10  1.04097740e-10\n",
      " -3.02133381e-09 -9.00194717e-10  1.70827349e-10 -5.03898424e-09\n",
      " -1.19887830e-09  7.18449409e-11]\n",
      "<s^x_i> = [-3.40892502e-16 -4.94911985e-15  1.15309286e-14 -6.38049989e-15\n",
      " -2.44712579e-14  1.31821648e-13 -2.85746089e-14 -1.01367176e-13\n",
      "  7.46210318e-13 -2.01797686e-13]\n"
     ]
    }
   ],
   "source": [
    "for dim_bond in [4, 6]:\n",
    "    print(f'dim_bond = {dim_bond}:\\n' + '#'*50)\n",
    "    n_sites = 10; dim_phys = 2\n",
    "    mpo = mpo\n",
    "    mps = init_mps(n_sites, dim_phys, dim_bond)\n",
    "    H_left, H_right = initH(mpo, mps)\n",
    "    mps = sweep(100, mpo, H_left, H_right, mps)\n",
    "\n",
    "    # transfer matrix\n",
    "    transfer_matrix = [None] * n_sites\n",
    "    transfer_matrix_sz = [None] * n_sites\n",
    "    transfer_matrix_sx = [None] * n_sites\n",
    "    for i in range(n_sites):\n",
    "        transfer_matrix[i] = Sub.Group(Sub.NCon([mps[i], np.conj(mps[i])], [[-1, 1, -2], [-3, 1, -4]]), [[0, 2], [1, 3]])\n",
    "        transfer_matrix_sz[i] = Sub.Group(Sub.NCon([mps[i], Sz, np.conj(mps[i])], [[-1, 1, -2], [1, 2], [-3, 2, -4]]), [[0, 2], [1, 3]])\n",
    "        transfer_matrix_sx[i] = Sub.Group(Sub.NCon([mps[i], Sx, np.conj(mps[i])], [[-1, 1, -2], [1, 2], [-3, 2, -4]]), [[0, 2], [1, 3]])\n",
    "\n",
    "    # calculate observables\n",
    "    sz = np.zeros(n_sites)\n",
    "    sx = np.zeros(n_sites)\n",
    "    for i in range(n_sites):\n",
    "        transfer_matrix_list = transfer_matrix.copy()\n",
    "        transfer_matrix_list[i] = transfer_matrix_sz[i]\n",
    "        sz[i] = np.real(Sub.NCon(transfer_matrix_list, [[-1, 1]] + [[i+1, i+2] for i in range(n_sites-2)] + [[n_sites-1, -2]]).trace())\n",
    "        transfer_matrix_list = transfer_matrix.copy()\n",
    "        transfer_matrix_list[i] = transfer_matrix_sx[i]\n",
    "        sx[i] = np.real(Sub.NCon(transfer_matrix_list, [[-1, 1]] + [[i+1, i+2] for i in range(n_sites-2)] + [[n_sites-1, -2]]).trace())\n",
    "\n",
    "    print(f'<s^z_i> = {sz}')\n",
    "    print(f'<s^x_i> = {sx}')\n"
   ]
  },
  {
   "cell_type": "markdown",
   "metadata": {},
   "source": [
    "## Compare with Exact Diagonalization\n",
    "\n",
    "We can further compare our results with exact diagonalization.\n",
    "\n",
    "We borrow code from `task1`.\n",
    "\n",
    "Note that it's open boundary condition!"
   ]
  },
  {
   "cell_type": "code",
   "execution_count": 22,
   "metadata": {},
   "outputs": [
    {
     "name": "stdout",
     "output_type": "stream",
     "text": [
      "Exact Diagonalization:\n",
      "Energy: [-11.48944207], Energy per site: [-1.14894421]\n"
     ]
    }
   ],
   "source": [
    "def readBit(num, n):\n",
    "    return (num & (1 << n)) >> n\n",
    "\n",
    "def flipBit(num, n):\n",
    "    return num ^ (1 << n)\n",
    "\n",
    "from scipy import sparse\n",
    "\n",
    "N = 10\n",
    "length = 2 ** N\n",
    "\n",
    "# Hamiltonian\n",
    "HFrom = []\n",
    "HTo = []\n",
    "HValue = []\n",
    "\n",
    "print('Exact Diagonalization:')\n",
    "\n",
    "for fromBasis in range(length):\n",
    "\n",
    "    for i in range(N):\n",
    "        HFrom.append(fromBasis)\n",
    "        HTo.append(flipBit(fromBasis, i))\n",
    "        if i == 0 or i == N-1: # open boundary condition\n",
    "            HValue.append(- (1 - 2*readBit(fromBasis, i))*1j)\n",
    "        else:\n",
    "            HValue.append(-(1 - 2*readBit(fromBasis, (i-1)%N)) * (1 - 2*readBit(fromBasis, (i+1)%N)) - (1 - 2*readBit(fromBasis, i))*1j)\n",
    "\n",
    "Hed = sparse.coo_matrix((HValue, (HTo, HFrom)), shape=(length, length)).toarray()\n",
    "eigval, eigvec = LAs.eigsh(Hed, k=1, which='SA')\n",
    "print(f'Energy: {eigval}, Energy per site: {eigval/N}')"
   ]
  },
  {
   "cell_type": "markdown",
   "metadata": {},
   "source": [
    "The ground state energies only differs by $10^{-4}$!"
   ]
  },
  {
   "cell_type": "code",
   "execution_count": null,
   "metadata": {},
   "outputs": [],
   "source": []
  }
 ],
 "metadata": {
  "interpreter": {
   "hash": "6544d7d25989b4294a912322cb1a3d014baeb728b9c72e23e3b8bbf4fa651ef0"
  },
  "kernelspec": {
   "display_name": "Python 3.7.6 64-bit ('anaconda3-2020.02': pyenv)",
   "name": "python3"
  },
  "language_info": {
   "codemirror_mode": {
    "name": "ipython",
    "version": 3
   },
   "file_extension": ".py",
   "mimetype": "text/x-python",
   "name": "python",
   "nbconvert_exporter": "python",
   "pygments_lexer": "ipython3",
   "version": "3.7.6"
  },
  "orig_nbformat": 4
 },
 "nbformat": 4,
 "nbformat_minor": 2
}
