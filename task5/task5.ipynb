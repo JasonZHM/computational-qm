{
 "cells": [
  {
   "cell_type": "markdown",
   "metadata": {},
   "source": [
    "# Variational MPS and iTEBD for Three-body Spin Model\n",
    "\n",
    "This notebook contains code for two different approaches to obtain ground state of a three-body spin model, namely:\n",
    "1. variational matrix product state method (variational MPS),\n",
    "2. infinite-time evolving block decimation method (iTEBD).\n",
    "\n",
    "The model we are interested in is of the following Hamiltonian:\n",
    "$$\n",
    "H = -\\sum_j (\\sigma_{j-1}^z \\sigma_{j}^x \\sigma_{j+1}^z + \\sigma_j^y).\n",
    "$$\n",
    "And we would like to investigate the ground state of this model on a $N=10$ lattice using 2-site variational MPS method and on an infinite length lattice using 3-site iTEBD method."
   ]
  },
  {
   "cell_type": "markdown",
   "metadata": {},
   "source": [
    "# Variational MPS\n",
    "\n",
    "Firstly, let's give variational MPS a try.\n",
    "\n",
    "## MPO form of Hamiltonian\n",
    "\n",
    "To implement variational MPS, we shall construct the matrix product operator (MPO) first.\n",
    "\n",
    "The MPO for this model is\n",
    "$$\n",
    "M = \\begin{pmatrix}\n",
    "I &\\sigma^z &0 &\\sigma^y\\\\\n",
    "0 &0 &\\sigma^x &0\\\\\n",
    "0 &0 &0 &\\sigma^z\\\\\n",
    "0 &0 &0 &I\n",
    "\\end{pmatrix}.\n",
    "$$\n",
    "Let's implement this."
   ]
  },
  {
   "cell_type": "code",
   "execution_count": 1,
   "metadata": {},
   "outputs": [],
   "source": [
    "import numpy as np\n",
    "\n",
    "Sx = np.array([[0, 1], [1, 0]])\n",
    "Sy = np.array([[0, -1j], [1j, 0]])\n",
    "Sz = np.array([[1, 0], [0, -1]])\n",
    "I = np.eye(2)\n",
    "\n",
    "mpo = np.zeros((4, 2, 4, 2), dtype=complex)\n",
    "mpo[0, :, 0, :] = I\n",
    "mpo[0, :, 1, :] = Sz\n",
    "mpo[0, :, 3, :] = Sy\n",
    "mpo[1, :, 2, :] = Sx\n",
    "mpo[2, :, 3, :] = Sz\n",
    "mpo[3, :, 3, :] = I"
   ]
  },
  {
   "cell_type": "markdown",
   "metadata": {},
   "source": [
    "## State Initialization\n",
    "\n",
    "The second thing we shall do is to define a matrix product state and initialize it."
   ]
  },
  {
   "cell_type": "code",
   "execution_count": null,
   "metadata": {},
   "outputs": [],
   "source": []
  }
 ],
 "metadata": {
  "interpreter": {
   "hash": "6544d7d25989b4294a912322cb1a3d014baeb728b9c72e23e3b8bbf4fa651ef0"
  },
  "kernelspec": {
   "display_name": "Python 3.7.6 64-bit ('anaconda3-2020.02': pyenv)",
   "name": "python3"
  },
  "language_info": {
   "codemirror_mode": {
    "name": "ipython",
    "version": 3
   },
   "file_extension": ".py",
   "mimetype": "text/x-python",
   "name": "python",
   "nbconvert_exporter": "python",
   "pygments_lexer": "ipython3",
   "version": "3.7.6"
  },
  "orig_nbformat": 4
 },
 "nbformat": 4,
 "nbformat_minor": 2
}
