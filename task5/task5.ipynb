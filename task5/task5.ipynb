{
 "cells": [
  {
   "cell_type": "markdown",
   "metadata": {},
   "source": [
    "# Variational MPS and iTEBD for Three-body Spin Model\n",
    "\n",
    "This notebook contains code for two different approaches to obtain ground state of a three-body spin model, namely:\n",
    "1. variational matrix product state method (variational MPS),\n",
    "2. infinite-time evolving block decimation method (iTEBD).\n",
    "\n",
    "The model we are interested in is of the following Hamiltonian:\n",
    "$$\n",
    "H = -\\sum_j (\\sigma_{j-1}^z \\sigma_{j}^x \\sigma_{j+1}^z + \\sigma_j^y).\n",
    "$$\n",
    "And we would like to investigate the ground state of this model on a $N=10$ lattice with open boundary condition using 2-site variational MPS method and on an infinite length lattice using 3-site iTEBD method."
   ]
  },
  {
   "cell_type": "markdown",
   "metadata": {},
   "source": [
    "# Variational MPS\n",
    "\n",
    "Firstly, let's give variational MPS a try.\n",
    "\n",
    "## MPO form of Hamiltonian\n",
    "\n",
    "To implement variational MPS, we shall construct the matrix product operator (MPO) first.\n",
    "\n",
    "The MPO for this model is\n",
    "$$\n",
    "M = \\begin{pmatrix}\n",
    "I &-\\sigma^z &0 &-\\sigma^y\\\\\n",
    "0 &0 &\\sigma^x &0\\\\\n",
    "0 &0 &0 &\\sigma^z\\\\\n",
    "0 &0 &0 &I\n",
    "\\end{pmatrix}.\n",
    "$$\n",
    "Let's implement this."
   ]
  },
  {
   "cell_type": "code",
   "execution_count": 1,
   "metadata": {},
   "outputs": [],
   "source": [
    "import numpy as np\n",
    "np.random.seed(42)\n",
    "\n",
    "Sx = np.array([[0, 1], [1, 0]])\n",
    "Sy = np.array([[0, -1j], [1j, 0]])\n",
    "Sz = np.array([[1, 0], [0, -1]])\n",
    "I = np.eye(2)\n",
    "\n",
    "mpo = np.zeros((4, 2, 4, 2), dtype=complex)\n",
    "mpo[0, :, 0, :] = I\n",
    "mpo[0, :, 1, :] = -Sz\n",
    "mpo[0, :, 3, :] = -Sy\n",
    "mpo[1, :, 2, :] = Sx\n",
    "mpo[2, :, 3, :] = Sz\n",
    "mpo[3, :, 3, :] = I"
   ]
  },
  {
   "cell_type": "markdown",
   "metadata": {},
   "source": [
    "## State Initialization\n",
    "\n",
    "The second thing we shall do is to define a matrix product state and initialize it."
   ]
  },
  {
   "cell_type": "code",
   "execution_count": 2,
   "metadata": {},
   "outputs": [],
   "source": [
    "# import subroutines for tensor manipulation\n",
    "import sys\n",
    "sys.path.append(\"..\")\n",
    "from sample_code.vMPS_iTEBD import Sub180221 as Sub\n",
    "\n",
    "def init_mps(n_site, dim_phys, dim_bond):\n",
    "    mps = [None] * n_site\n",
    "    for i in range(n_site):\n",
    "        dim_left = min(dim_phys ** i, dim_phys ** (n_site - i), dim_bond)\n",
    "        dim_right = min(dim_phys ** (i+1), dim_phys ** (n_site-1-i), dim_bond)\n",
    "        mps[i] = np.random.rand(dim_left, dim_phys, dim_right)\n",
    "    \n",
    "    # canonicalize\n",
    "    U = np.eye(np.shape(mps[-1])[-1])\n",
    "    for i in range(n_site - 1, 0, -1):\n",
    "        U, mps[i] = Sub.Mps_LQP(mps[i], U)\n",
    "    \n",
    "    return mps"
   ]
  },
  {
   "cell_type": "markdown",
   "metadata": {},
   "source": [
    "## Environment Initialization\n",
    "\n",
    "The third step is to multiply out all the MPOs and sandwitch it with the MPS to obtain the whole tensor.\n",
    "\n",
    "This step is called environment initialization (i.e. all the tensors in $\\bra{\\psi}H\\ket{\\psi}$)."
   ]
  },
  {
   "cell_type": "code",
   "execution_count": 3,
   "metadata": {},
   "outputs": [],
   "source": [
    "def initH(mpo, mps):\n",
    "    n_site = len(mps)\n",
    "    dim_mpo = np.shape(mpo)[0]\n",
    "    \n",
    "    H_left = [None] * n_site\n",
    "    H_right = [None] * n_site\n",
    "    \n",
    "    H_left[0] = np.zeros((1, dim_mpo, 1))\n",
    "    H_left[0][0, 0, 0] = 1\n",
    "    H_right[-1] = np.zeros((1, dim_mpo, 1))\n",
    "    H_right[-1][0, -1, 0] = 1\n",
    "    \n",
    "    for i in range(n_site - 1, 0, -1):\n",
    "        H_right[i - 1] = Sub.NCon([H_right[i], mps[i], mpo, np.conj(mps[i])], \n",
    "        [[1, 3, 5], [-1, 2, 1], [-2, 2, 3, 4], [-3, 4, 5]])\n",
    "    \n",
    "    return H_left, H_right"
   ]
  },
  {
   "cell_type": "markdown",
   "metadata": {},
   "source": [
    "## Site Update\n",
    "\n",
    "The final step is to update each two site in an iterative manner and obtain the ground state in covergence.\n",
    "\n",
    "We implement the two site update precedure first and then carry out the sweeping.\n",
    "\n",
    "For the two site update precedure, we can generalize it to **arbitrary n sites** update precedure as below."
   ]
  },
  {
   "cell_type": "code",
   "execution_count": 4,
   "metadata": {},
   "outputs": [],
   "source": [
    "import scipy.sparse.linalg as LAs\n",
    "\n",
    "def update_sites(mpo, H_left, H_right, site_tensor_list, reverse=False):\n",
    "    '''\n",
    "    Update arbitrary n consecutive sites in the MPS\n",
    "    '''\n",
    "    shape_site_tensor_list = list(map(np.shape, site_tensor_list))\n",
    "    dim_site_tensor_list = list(map(lambda x: x[1], shape_site_tensor_list))\n",
    "    n_sites = len(shape_site_tensor_list)\n",
    "    \n",
    "    # contract and minimize energy\n",
    "    contract_rule = [[-1, 1, -(n_sites + 3)]] + \\\n",
    "                    [[i, -(n_sites + 3 + i), i + 1, -(1 + i)] for i in range(1, n_sites + 1)] + \\\n",
    "                    [[-(2 * n_sites + 4), n_sites + 1, -(n_sites + 2)]]\n",
    "    H_eff = Sub.NCon([H_left] + [mpo] * n_sites + [H_right], contract_rule)\n",
    "    H_eff = Sub.Group(H_eff, [[i for i in range(n_sites + 2)], [i for i in range(n_sites + 2, 2 * n_sites + 4)]])\n",
    "    eigval, eigvec = LAs.eigsh(H_eff, k=1, which='SA')\n",
    "\n",
    "    # update tensor\n",
    "    if not reverse:\n",
    "        # left to right\n",
    "        updated_site_tensor = np.reshape(eigvec, [H_left.shape[-1]] + dim_site_tensor_list + [H_right.shape[0]])\n",
    "        updated_site_tensor_list = [None] * n_sites\n",
    "        for i in range(n_sites - 1):\n",
    "            svd_tensor = Sub.Group(updated_site_tensor, [[0, 1], list(range(2, len(updated_site_tensor.shape)))])\n",
    "            u, s, v = np.linalg.svd(svd_tensor, full_matrices=False)\n",
    "            dim_trunc = min(len(s), shape_site_tensor_list[i][-1])\n",
    "            u = u[:, :dim_trunc]; s = s[:dim_trunc]; v = v[:dim_trunc, :]\n",
    "            updated_site_tensor_list[i] = u.reshape(shape_site_tensor_list[i])\n",
    "            updated_site_tensor = np.diag(s) @ v\n",
    "        updated_site_tensor_list[-1] = updated_site_tensor.reshape(shape_site_tensor_list[-1])\n",
    "    else:\n",
    "        # right to left\n",
    "        updated_site_tensor = np.reshape(eigvec, [H_left.shape[0]] + dim_site_tensor_list + [H_right.shape[-1]])\n",
    "        updated_site_tensor_list = [None] * n_sites\n",
    "        for i in range(n_sites - 1, 0, -1):\n",
    "            svd_tensor = Sub.Group(updated_site_tensor, [list(range(len(updated_site_tensor.shape) - 2)), [len(updated_site_tensor.shape) - 2, len(updated_site_tensor.shape) - 1]])\n",
    "            u, s, v = np.linalg.svd(svd_tensor, full_matrices=False)\n",
    "            dim_trunc = min(len(s), shape_site_tensor_list[i][0])\n",
    "            u = u[:, :dim_trunc]; s = s[:dim_trunc]; v = v[:dim_trunc, :]\n",
    "            updated_site_tensor_list[i] = v.reshape(shape_site_tensor_list[i])\n",
    "            updated_site_tensor = u @ np.diag(s)\n",
    "        updated_site_tensor_list[0] = updated_site_tensor.reshape(shape_site_tensor_list[0])\n",
    "    \n",
    "    return updated_site_tensor_list, eigval"
   ]
  },
  {
   "cell_type": "markdown",
   "metadata": {},
   "source": [
    "Now we can implement the sweeping precedure.\n",
    "\n",
    "Here we update two sites per step."
   ]
  },
  {
   "cell_type": "code",
   "execution_count": 5,
   "metadata": {},
   "outputs": [],
   "source": [
    "def sweep(n_iter, mpo, H_left, H_right, mps):\n",
    "    n_sites = len(mps)\n",
    "    eig0 = np.zeros(n_sites)\n",
    "    eig1 = np.zeros(n_sites)\n",
    "    \n",
    "    for r in range(n_iter):\n",
    "        print(f'Iteration {r}:')\n",
    "    \n",
    "        for i in range(n_sites - 1):\n",
    "            mps[i:i+2], eig1[i] = update_sites(mpo, H_left[i], H_right[i+1], mps[i:i+2], reverse=False)\n",
    "            mps[i], U = Sub.Mps_QR0P(mps[i])\n",
    "            H_left[i+1] = Sub.NCon([H_left[i], np.conj(mps[i]), mpo, mps[i]], \n",
    "                            [[1, 3, 5], [1, 2, -1], [3, 4, -2, 2], [5, 4, -3]])\n",
    "            mps[i+1] = np.tensordot(U, mps[i+1], (1, 0))\n",
    "        \n",
    "        for i in range(n_sites - 1, 1, -1):\n",
    "            mps[i-1:i+1], eig1[i] = update_sites(mpo, H_left[i-1], H_right[i], mps[i-1:i+1], reverse=True)\n",
    "            U, mps[i] = Sub.Mps_LQ0P(mps[i])\n",
    "            H_right[i-1] = Sub.NCon([H_right[i], mps[i], mpo, np.conj(mps[i])], \n",
    "                            [[1, 3, 5], [-1, 2, 1], [-2, 2, 3, 4], [-3, 4, 5]])\n",
    "            mps[i-1] = np.tensordot(mps[i-1], U, (2,0))\n",
    "        \n",
    "        print(eig1)\n",
    "        if (abs(eig1 - eig0) < 1.0e-7).all():\n",
    "            break\n",
    "        eig0 = eig1.copy()\n",
    "    \n",
    "    print(f'energy per site: {eig1/n_sites}')\n",
    "\n",
    "    return mps"
   ]
  },
  {
   "cell_type": "markdown",
   "metadata": {},
   "source": [
    "## Demo\n",
    "\n",
    "Now let's demonstrate this approach by calculating the ground state energy, magnetization $\\langle \\sigma^z_i\\rangle$ and $\\langle \\sigma^x_i\\rangle$ on our model.\n",
    "\n",
    "We choose `dim_bond = 4, 6`."
   ]
  },
  {
   "cell_type": "code",
   "execution_count": 10,
   "metadata": {},
   "outputs": [
    {
     "name": "stdout",
     "output_type": "stream",
     "text": [
      "dim_bond = 4:\n",
      "##################################################\n",
      "Iteration 0:\n",
      "[ -4.3890553   -5.75833775 -11.48598779 -11.48640511 -11.4844772\n",
      " -11.48288606 -11.48038403 -11.48003578 -11.47964578 -11.47964578]\n",
      "Iteration 1:\n",
      "[-11.48598779 -11.48598779 -11.48597512 -11.48639428 -11.48660148\n",
      " -11.48666675 -11.48660252 -11.48639585 -11.48597677 -11.48597677]\n",
      "Iteration 2:\n",
      "[-11.48597512 -11.48597512 -11.48597502 -11.4863942  -11.48660113\n",
      " -11.48666585 -11.48660113 -11.4863942  -11.48597503 -11.48597503]\n",
      "Iteration 3:\n",
      "[-11.48597502 -11.48597502 -11.48597502 -11.4863942  -11.48660113\n",
      " -11.48666585 -11.48660113 -11.4863942  -11.48597502 -11.48597502]\n",
      "energy per site: [-1.1485975  -1.1485975  -1.1485975  -1.14863942 -1.14866011 -1.14866659\n",
      " -1.14866011 -1.14863942 -1.1485975  -1.1485975 ]\n",
      "<s^z_i> = [-7.78071233e-11  7.25546286e-11  1.37940177e-11 -9.45918225e-11\n",
      "  6.97469096e-11  4.33071853e-12 -1.12491703e-10  1.45920104e-10\n",
      "  4.63734552e-11 -3.95139947e-10]\n",
      "<s^x_i> = [ 6.80138801e-16  1.81296226e-15 -2.64780560e-14  1.99452091e-16\n",
      " -2.77324109e-14  1.10317226e-13  1.34682312e-14  1.53469421e-14\n",
      " -2.36984961e-14 -1.97748788e-15]\n",
      "dim_bond = 6:\n",
      "##################################################\n",
      "Iteration 0:\n",
      "[ -4.21197323  -6.2049526  -11.48870373 -11.48878462 -11.48871325\n",
      " -11.48802393 -11.4859979  -11.48554593 -11.48546905 -11.48546905]\n",
      "Iteration 1:\n",
      "[-11.48870373 -11.48870373 -11.48870695 -11.48878788 -11.48886591\n",
      " -11.48888724 -11.48886591 -11.48878787 -11.48870693 -11.48870693]\n",
      "Iteration 2:\n",
      "[-11.48870695 -11.48870695 -11.48870695 -11.48878788 -11.48886592\n",
      " -11.48888725 -11.48886592 -11.48878788 -11.48870695 -11.48870695]\n",
      "Iteration 3:\n",
      "[-11.48870695 -11.48870695 -11.48870695 -11.48878788 -11.48886592\n",
      " -11.48888725 -11.48886592 -11.48878788 -11.48870695 -11.48870695]\n",
      "energy per site: [-1.14887069 -1.14887069 -1.14887069 -1.14887879 -1.14888659 -1.14888873\n",
      " -1.14888659 -1.14887879 -1.14887069 -1.14887069]\n",
      "<s^z_i> = [-2.67568061e-10  7.00703472e-10 -5.86125351e-10 -5.15055487e-10\n",
      "  9.66365301e-10 -6.70998596e-10 -7.43314018e-10  1.61087232e-09\n",
      " -8.94051121e-10 -3.09956962e-10]\n",
      "<s^x_i> = [-2.57957448e-15 -2.43453376e-14 -9.98852893e-16  7.86997928e-15\n",
      " -1.81010380e-13 -8.99227521e-15  4.57331525e-14 -8.46079380e-13\n",
      " -6.93788873e-14 -5.53863221e-14]\n"
     ]
    }
   ],
   "source": [
    "for dim_bond in [4, 6]:\n",
    "    print(f'dim_bond = {dim_bond}:\\n' + '#'*50)\n",
    "    n_sites = 10; dim_phys = 2\n",
    "    mpo = mpo\n",
    "    mps = init_mps(n_sites, dim_phys, dim_bond)\n",
    "    H_left, H_right = initH(mpo, mps)\n",
    "    mps = sweep(100, mpo, H_left, H_right, mps)\n",
    "\n",
    "    # transfer matrix\n",
    "    transfer_matrix = [None] * n_sites\n",
    "    transfer_matrix_sz = [None] * n_sites\n",
    "    transfer_matrix_sx = [None] * n_sites\n",
    "    for i in range(n_sites):\n",
    "        transfer_matrix[i] = Sub.Group(Sub.NCon([mps[i], np.conj(mps[i])], [[-1, 1, -2], [-3, 1, -4]]), [[0, 2], [1, 3]])\n",
    "        transfer_matrix_sz[i] = Sub.Group(Sub.NCon([mps[i], Sz, np.conj(mps[i])], [[-1, 1, -2], [1, 2], [-3, 2, -4]]), [[0, 2], [1, 3]])\n",
    "        transfer_matrix_sx[i] = Sub.Group(Sub.NCon([mps[i], Sx, np.conj(mps[i])], [[-1, 1, -2], [1, 2], [-3, 2, -4]]), [[0, 2], [1, 3]])\n",
    "\n",
    "    # calculate observables\n",
    "    sz = np.zeros(n_sites)\n",
    "    sx = np.zeros(n_sites)\n",
    "    for i in range(n_sites):\n",
    "        transfer_matrix_list = transfer_matrix.copy()\n",
    "        transfer_matrix_list[i] = transfer_matrix_sz[i]\n",
    "        sz[i] = np.real(Sub.NCon(transfer_matrix_list, [[-1, 1]] + [[i+1, i+2] for i in range(n_sites-2)] + [[n_sites-1, -2]]).trace())\n",
    "        transfer_matrix_list = transfer_matrix.copy()\n",
    "        transfer_matrix_list[i] = transfer_matrix_sx[i]\n",
    "        sx[i] = np.real(Sub.NCon(transfer_matrix_list, [[-1, 1]] + [[i+1, i+2] for i in range(n_sites-2)] + [[n_sites-1, -2]]).trace())\n",
    "\n",
    "    print(f'<s^z_i> = {sz}')\n",
    "    print(f'<s^x_i> = {sx}')\n"
   ]
  },
  {
   "cell_type": "markdown",
   "metadata": {},
   "source": [
    "## Compare with Exact Diagonalization\n",
    "\n",
    "We can further compare our results with exact diagonalization.\n",
    "\n",
    "We borrow code from `task1`.\n",
    "\n",
    "Note that it's open boundary condition!"
   ]
  },
  {
   "cell_type": "code",
   "execution_count": 14,
   "metadata": {},
   "outputs": [
    {
     "name": "stdout",
     "output_type": "stream",
     "text": [
      "Exact Diagonalization:\n",
      "Energy: [-11.48944207], Energy per site: [-1.14894421]\n"
     ]
    }
   ],
   "source": [
    "def readBit(num, n):\n",
    "    return (num & (1 << n)) >> n\n",
    "\n",
    "def flipBit(num, n):\n",
    "    return num ^ (1 << n)\n",
    "\n",
    "from scipy import sparse\n",
    "\n",
    "N = 10\n",
    "length = 2 ** N\n",
    "\n",
    "# Hamiltonian\n",
    "HFrom = []\n",
    "HTo = []\n",
    "HValue = []\n",
    "\n",
    "print('Exact Diagonalization:')\n",
    "\n",
    "for fromBasis in range(length):\n",
    "\n",
    "    for i in range(N):\n",
    "        HFrom.append(fromBasis)\n",
    "        HTo.append(flipBit(fromBasis, i))\n",
    "        if i == 0 or i == N-1: # open boundary condition\n",
    "            HValue.append(- (1 - 2*readBit(fromBasis, i))*1j)\n",
    "        else:\n",
    "            HValue.append(-(1 - 2*readBit(fromBasis, (i-1)%N)) * (1 - 2*readBit(fromBasis, (i+1)%N)) - (1 - 2*readBit(fromBasis, i))*1j)\n",
    "\n",
    "Hed = sparse.coo_matrix((HValue, (HTo, HFrom)), shape=(length, length)).toarray()\n",
    "eigval, eigvec = LAs.eigsh(Hed, k=1, which='SA')\n",
    "print(f'Energy: {eigval}, Energy per site: {eigval/N}')"
   ]
  },
  {
   "cell_type": "markdown",
   "metadata": {},
   "source": [
    "The ground state energies only differs by $10^{-4}$!"
   ]
  },
  {
   "cell_type": "markdown",
   "metadata": {},
   "source": [
    "# iTEBD\n",
    "\n",
    "Now we turn to the infinite-time evolving block decimation method.\n",
    "\n",
    "We choose `dim_bond = 6` and calculate the ground state energy per site using a 3 site-version.\n",
    "\n",
    "Furthermore, we would like to investigate the entanglement entropy and entanglement spectrum.\n",
    "\n",
    "## Hamiltonian and State Initialization\n",
    "\n",
    "Similar to the vMPS method above, we shall first construct the Hamiltonian and initialize the state.\n",
    "\n",
    "Due to translational symmetry, we only need the local three body Hamiltonian, which is quite simple:\n",
    "$$\n",
    "h_i = -(\\sigma^z_{i-1}\\sigma^x_{i}\\sigma^z_{i+1}+\\sigma^y_{i}).\n",
    "$$\n",
    "\n",
    "As for the matrix product state, we use SVD to canonicalize it (i.e. factorize each site tensor into -T-G-, where G is a diagonal matrix).\n"
   ]
  },
  {
   "cell_type": "code",
   "execution_count": 15,
   "metadata": {},
   "outputs": [],
   "source": [
    "# Hamiltonian\n",
    "h = -(np.kron(Sz, np.kron(Sx, Sz)) + np.kron(I, np.kron(Sy, I)))\n",
    "h = np.reshape(h, (2, 2, 2, 2, 2, 2))\n",
    "\n",
    "# initialize state\n",
    "def init_mps_TG(dim_phys, dim_bond, n_sites):\n",
    "    Ts = [None] * n_sites\n",
    "    Gs = [None] * n_sites\n",
    "    \n",
    "    for i in range(n_sites):\n",
    "        Ts[i] = np.random.rand(dim_bond, dim_phys, dim_bond)\n",
    "        Gs[i] = np.random.rand(dim_bond)\n",
    "\n",
    "    return Ts,Gs"
   ]
  },
  {
   "cell_type": "markdown",
   "metadata": {},
   "source": [
    "## Evolution\n",
    "\n",
    "To implement iTEBD, we need to exponentiate the Hamiltonian, (i.e. imaginary time evolution):\n",
    "$$\n",
    "U_i = e^{-\\tau h_i}.\n",
    "$$"
   ]
  },
  {
   "cell_type": "code",
   "execution_count": 16,
   "metadata": {},
   "outputs": [],
   "source": [
    "def exp_h(h, tau):\n",
    "    dim_phys = np.shape(h)[0]\n",
    "    if np.linalg.norm(h) < 1e-12:\n",
    "        return np.reshape(np.eye(dim_phys ** 3),\n",
    "         [dim_phys, dim_phys, dim_phys, dim_phys, dim_phys, dim_phys])\n",
    "    else:\n",
    "        matrix = np.reshape(h, [dim_phys**3, dim_phys**3])\n",
    "        eigvals, eigvecs = np.linalg.eigh(matrix)\n",
    "        matrix_exp = eigvecs @ np.diag(np.exp(- tau * eigvals)) @ np.conjugate(eigvecs.T)\n",
    "        return np.reshape(matrix_exp, [dim_phys, dim_phys, dim_phys, dim_phys, dim_phys, dim_phys])\n"
   ]
  },
  {
   "cell_type": "markdown",
   "metadata": {},
   "source": [
    "Now we turn to the update precedure.\n",
    "\n",
    "We implement first the three-site (two-bond) update precedure, then the whole sweeping."
   ]
  },
  {
   "cell_type": "code",
   "execution_count": 17,
   "metadata": {},
   "outputs": [],
   "source": [
    "def evolve_two_bond(Gl, T1, G1, T2, G2, T3, Gr, dim_bond, U):\n",
    "    whole_tensor = Sub.NCon(\n",
    "        [np.diag(Gl), T1, np.diag(G1), T2, np.diag(G2), T3, np.diag(Gr), U],\n",
    "        [[-1, 1], [1, 7, 2], [2, 3], [3, 8, 4], [4, 5], [5, 9, 6], [6, -5], [-2, -3, -4, 7, 8, 9]]\n",
    "    )\n",
    "    shape_whole = np.shape(whole_tensor)\n",
    "    tensor_svd = Sub.Group(whole_tensor, [[0, 1], [2, 3, 4]])\n",
    "    \n",
    "    # T1, G1\n",
    "    U1, G1_update, V1 = np.linalg.svd(tensor_svd, full_matrices=False)\n",
    "    dim_trunc = min(len(G1_update), dim_bond)\n",
    "    U1 = U1[:, :dim_trunc]; G1_update = G1_update[:dim_trunc]; V1 = V1[:dim_trunc, :]\n",
    "    G1_update /= np.sqrt(np.sum(G1_update ** 2))\n",
    "    T1_update = np.tensordot(np.diag(1/Gl), np.reshape(U1, [shape_whole[0], shape_whole[1], dim_trunc]), (1, 0))\n",
    "\n",
    "    # T2, G2\n",
    "    U2, G2_update, V2 = np.linalg.svd(np.reshape(V1, [dim_bond * shape_whole[2], -1]), full_matrices=False)\n",
    "    dim_trunc = min(len(G2_update), dim_bond)\n",
    "    U2 = U2[:, :dim_trunc]; G2_update = G2_update[:dim_trunc]; V2 = V2[:dim_trunc, :]\n",
    "    G2_update /= np.sqrt(np.sum(G2_update ** 2))\n",
    "    T2_update = np.reshape(U2, [-1, shape_whole[3], dim_trunc])\n",
    "\n",
    "    # T3\n",
    "    T3_update = np.tensordot(np.reshape(V2, [dim_trunc, shape_whole[3], shape_whole[4]]), np.diag(1/Gr), (2, 0))\n",
    "\n",
    "    return T1_update, G1_update, T2_update, G2_update, T3_update\n"
   ]
  },
  {
   "cell_type": "markdown",
   "metadata": {},
   "source": [
    "Then the sweeping precedure."
   ]
  },
  {
   "cell_type": "code",
   "execution_count": 18,
   "metadata": {},
   "outputs": [],
   "source": [
    "def evolve(Ts, Gs, h, n_iter, tau_list, prec_list, dim_bond, adaptive_tau=False):\n",
    "    errs = []\n",
    "    Gs_last = np.ones(3)\n",
    "    Gs_diff_last = np.zeros_like(Gs_last)\n",
    "    n_nondecrease = 0\n",
    "    for tau, prec in zip(tau_list, prec_list):\n",
    "        tau_init = tau\n",
    "        U = exp_h(h, tau)\n",
    "        for i in range(n_iter):\n",
    "            for bond in range(3):\n",
    "                Ts[bond], Gs[bond], Ts[(bond+1)%3], Gs[(bond+1)%3], Ts[(bond+2)%3] = evolve_two_bond(\n",
    "                    Gs[(bond-1)%3], Ts[bond], Gs[bond], Ts[(bond+1)%3], Gs[(bond+1)%3], Ts[(bond+2)%3], Gs[(bond+2)%3], dim_bond, U\n",
    "                )\n",
    "            \n",
    "            Gs_diff = np.sum(np.abs(Gs_last - np.array(Gs)[:, 0]))\n",
    "            if (Gs_diff >= Gs_diff_last).any():\n",
    "                n_nondecrease += 1\n",
    "            else:\n",
    "                n_nondecrease = 0\n",
    "\n",
    "            if Gs_diff < prec:\n",
    "                print(f'tau {tau}, precision {prec}, converged at iteration {i}')\n",
    "                break\n",
    "            \n",
    "            Gs_last = np.array(Gs)[:, 0].copy()\n",
    "            Gs_diff_last = Gs_diff.copy()\n",
    "            errs.append(Gs_diff)\n",
    "\n",
    "            # adaptive tau\n",
    "            if adaptive_tau and n_nondecrease == n_iter/10 and tau >= tau_init[-1]/10:\n",
    "                n_nondecrease = 0\n",
    "                tau /= 2\n",
    "                U = exp_h(h, tau)\n",
    "\n",
    "    return Ts, Gs, errs"
   ]
  },
  {
   "cell_type": "markdown",
   "metadata": {},
   "source": [
    "## Demo\n",
    "\n",
    "Now that we have all the ingredients of iTEBD, we can run a demo."
   ]
  },
  {
   "cell_type": "code",
   "execution_count": 19,
   "metadata": {},
   "outputs": [
    {
     "name": "stdout",
     "output_type": "stream",
     "text": [
      "tau 0.1, precision 1e-06, converged at iteration 3562\n"
     ]
    }
   ],
   "source": [
    "dim_bond = 6\n",
    "h = h\n",
    "Ts, Gs = init_mps_TG(2, dim_bond, 3)\n",
    "Ts, Gs, errs = evolve(Ts, Gs, h, 100000, [0.1, 0.01, 0.001], [1e-6, 1e-8, 1e-10], dim_bond)"
   ]
  },
  {
   "cell_type": "markdown",
   "metadata": {},
   "source": [
    "## Analysis of Error Dynamic\n",
    "\n",
    "Note that the `1e-10` convergence is quite hard to achieve.\n",
    "\n",
    "From the error dynamic we can see that the error experience some kind of period, which might comes from a too large choice of tau, causing it jumping around the minimum."
   ]
  },
  {
   "cell_type": "code",
   "execution_count": 20,
   "metadata": {},
   "outputs": [
    {
     "data": {
      "image/png": "[encoded data removed]",
      "text/plain": [
       "<Figure size 432x288 with 1 Axes>"
      ]
     },
     "metadata": {
      "needs_background": "light"
     },
     "output_type": "display_data"
    }
   ],
   "source": [
    "import matplotlib.pyplot as plt\n",
    "plt.plot(errs[:])\n",
    "plt.yscale('log')\n",
    "plt.show()"
   ]
  },
  {
   "cell_type": "markdown",
   "metadata": {},
   "source": [
    "Therefore, we develope an adaptive tau method to incrementally tune down tau in the progress of optimizing."
   ]
  },
  {
   "cell_type": "code",
   "execution_count": 21,
   "metadata": {},
   "outputs": [
    {
     "name": "stdout",
     "output_type": "stream",
     "text": [
      "tau 0.1, precision 1e-06, converged at iteration 703\n",
      "tau 0.01, precision 1e-08, converged at iteration 4627\n",
      "tau 0.001, precision 1e-10, converged at iteration 52179\n"
     ]
    }
   ],
   "source": [
    "Tsa, Gsa, errsa = evolve(Ts, Gs, h, 100000, [0.1, 0.01, 0.001], [1e-6, 1e-8, 1e-10], dim_bond, adaptive_tau=True)"
   ]
  },
  {
   "cell_type": "markdown",
   "metadata": {},
   "source": [
    "The adaptive method reaches convergence a lot faster.\n",
    "\n",
    "From the figure below, we can also see that the error experiences a much cleaner dynamic and drops a lot faster."
   ]
  },
  {
   "cell_type": "code",
   "execution_count": 22,
   "metadata": {},
   "outputs": [
    {
     "data": {
      "image/png": "[encoded data removed]",
      "text/plain": [
       "<Figure size 432x288 with 1 Axes>"
      ]
     },
     "metadata": {
      "needs_background": "light"
     },
     "output_type": "display_data"
    }
   ],
   "source": [
    "import matplotlib.pyplot as plt\n",
    "plt.plot(errs[:], label='non-adaptive')\n",
    "plt.plot(errsa[:], label='adaptive')\n",
    "plt.yscale('log')\n",
    "plt.legend()\n",
    "plt.show()"
   ]
  },
  {
   "cell_type": "markdown",
   "metadata": {},
   "source": [
    "## Energy and Entanglement\n",
    "\n",
    "Now we can calculate the energy and entanglement spectrum of the ground state."
   ]
  },
  {
   "cell_type": "code",
   "execution_count": 23,
   "metadata": {},
   "outputs": [],
   "source": [
    "def obs_two_bond(obs, Gl, T1, G1, T2, G2, T3, Gr):\n",
    "    state = Sub.NCon([np.diag(Gl), T1, np.diag(G1), T2, np.diag(G2), T3, np.diag(Gr)],\n",
    "    [[-1, 1],[1, -2, 2], [2, 3], [3, -3, 4], [4, 5], [5, -4, 6], [6, -5]])\n",
    "    val = Sub.NCon([state, obs, np.conj(state)],\n",
    "    [[7, 1, 2, 3, 8], [4, 5, 6, 1, 2, 3], [7, 4, 5, 6, 8]])\n",
    "    return val\n",
    "\n",
    "def cal_energy(Ts, Gs, h):\n",
    "    dim_phys = np.shape(h)[0]\n",
    "    \n",
    "    normalize_obs = np.reshape(np.eye(dim_phys**3, dim_phys**3),\n",
    "            [dim_phys, dim_phys, dim_phys, dim_phys, dim_phys, dim_phys])\n",
    "    \n",
    "    normalize = np.zeros(3)\n",
    "    energy = np.zeros(3)\n",
    "    \n",
    "    for bond in range(3):\n",
    "        normalize[bond] = np.real(obs_two_bond(normalize_obs, Gs[(bond-1)%3], Ts[bond], Gs[bond], Ts[(bond+1)%3], Gs[(bond+1)%3], Ts[(bond+2)%3], Gs[(bond+2)%3]))\n",
    "        energy[bond] = np.real(obs_two_bond(h, Gs[(bond-1)%3], Ts[bond], Gs[bond], Ts[(bond+1)%3], Gs[(bond+1)%3], Ts[(bond+2)%3], Gs[(bond+2)%3]))\n",
    "        energy[bond] /= normalize[bond]\n",
    "        print(f'bond {bond}, normalize {normalize[bond]}, energy {energy[bond]}')\n",
    "    \n",
    "    energy = np.mean(energy)\n",
    "    print(f'average energy per site: {energy}')\n",
    "    \n",
    "    return energy\n",
    "\n",
    "def cal_entropy(Ts, Gs):\n",
    "    entropy = np.zeros(3)\n",
    "    for bond in range(len(Gs)):\n",
    "        entropy[bond] = -np.sum((Gs[bond]**2) * np.log((Gs[bond]**2)))\n",
    "        print(f'bond {bond}, entanglement entopy {entropy[bond]}, spectrum: {Gs[bond]**2}')\n",
    "    \n",
    "    entropy = np.mean(entropy)\n",
    "    print(f'average entanglement entropy: {entropy}')\n",
    "    return entropy\n"
   ]
  },
  {
   "cell_type": "code",
   "execution_count": 24,
   "metadata": {},
   "outputs": [
    {
     "name": "stdout",
     "output_type": "stream",
     "text": [
      "bond 0, normalize 0.1666666911998457, energy -1.185486419333206\n",
      "bond 1, normalize 0.16663624173727898, energy -1.1317914584064541\n",
      "bond 2, normalize 0.16666668327727988, energy -1.211890790045539\n",
      "average energy per site: -1.1763895559283997\n",
      "bond 0, entanglement entopy 1.536167221562223, spectrum: [0.31769044 0.25816965 0.23354059 0.093457   0.08599854 0.01114377]\n",
      "bond 1, entanglement entopy 0.6723131348723925, spectrum: [0.81651933 0.08500868 0.06951662 0.02674243 0.00113136 0.00108158]\n",
      "bond 2, entanglement entopy 0.6840606887537878, spectrum: [8.12677744e-01 9.47911191e-02 5.47389489e-02 3.56655411e-02\n",
      " 1.63209541e-03 4.94551799e-04]\n",
      "average entanglement entropy: 0.9641803483961345\n"
     ]
    }
   ],
   "source": [
    "energy = cal_energy(Tsa, Gsa, h)\n",
    "entropy = cal_entropy(Tsa, Gsa)"
   ]
  }
 ],
 "metadata": {
  "interpreter": {
   "hash": "6544d7d25989b4294a912322cb1a3d014baeb728b9c72e23e3b8bbf4fa651ef0"
  },
  "kernelspec": {
   "display_name": "Python 3.7.6 64-bit ('anaconda3-2020.02': pyenv)",
   "name": "python3"
  },
  "language_info": {
   "codemirror_mode": {
    "name": "ipython",
    "version": 3
   },
   "file_extension": ".py",
   "mimetype": "text/x-python",
   "name": "python",
   "nbconvert_exporter": "python",
   "pygments_lexer": "ipython3",
   "version": "3.7.6"
  },
  "orig_nbformat": 4
 },
 "nbformat": 4,
 "nbformat_minor": 2
}
