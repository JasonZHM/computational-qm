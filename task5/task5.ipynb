{
 "cells": [
  {
   "cell_type": "markdown",
   "metadata": {},
   "source": [
    "# Variational MPS and iTEBD for Three-body Spin Model\n",
    "\n",
    "This notebook contains code for two different approaches to obtain ground state of a three-body spin model, namely:\n",
    "1. variational matrix product state method (variational MPS),\n",
    "2. infinite-time evolving block decimation method (iTEBD).\n",
    "\n",
    "The model we are interested in is of the following Hamiltonian:\n",
    "$$\n",
    "H = -\\sum_j (\\sigma_{j-1}^z \\sigma_{j}^x \\sigma_{j+1}^z + \\sigma_j^y).\n",
    "$$\n",
    "And we would like to investigate the ground state of this model on a $N=10$ lattice using 2-site variational MPS method and on an infinite length lattice using 3-site iTEBD method."
   ]
  },
  {
   "cell_type": "markdown",
   "metadata": {},
   "source": [
    "# Variational MPS\n",
    "\n",
    "Firstly, let's give variational MPS a try.\n",
    "\n",
    "## MPO form of Hamiltonian\n",
    "\n",
    "To implement variational MPS, we shall construct the matrix product operator (MPO) first.\n",
    "\n",
    "The MPO for this model is\n",
    "$$\n",
    "M = \\begin{pmatrix}\n",
    "I &\\sigma^z &0 &\\sigma^y\\\\\n",
    "0 &0 &\\sigma^x &0\\\\\n",
    "0 &0 &0 &\\sigma^z\\\\\n",
    "0 &0 &0 &I\n",
    "\\end{pmatrix}.\n",
    "$$\n",
    "Let's implement this."
   ]
  },
  {
   "cell_type": "code",
   "execution_count": 1,
   "metadata": {},
   "outputs": [],
   "source": [
    "import numpy as np\n",
    "\n",
    "Sx = np.array([[0, 1], [1, 0]])\n",
    "Sy = np.array([[0, -1j], [1j, 0]])\n",
    "Sz = np.array([[1, 0], [0, -1]])\n",
    "I = np.eye(2)\n",
    "\n",
    "mpo = np.zeros((4, 2, 4, 2), dtype=complex)\n",
    "mpo[0, :, 0, :] = I\n",
    "mpo[0, :, 1, :] = Sz\n",
    "mpo[0, :, 3, :] = Sy\n",
    "mpo[1, :, 2, :] = Sx\n",
    "mpo[2, :, 3, :] = Sz\n",
    "mpo[3, :, 3, :] = I"
   ]
  },
  {
   "cell_type": "markdown",
   "metadata": {},
   "source": [
    "## State Initialization\n",
    "\n",
    "The second thing we shall do is to define a matrix product state and initialize it."
   ]
  },
  {
   "cell_type": "code",
   "execution_count": 2,
   "metadata": {},
   "outputs": [],
   "source": [
    "# import subroutines for tensor manipulation\n",
    "import sys\n",
    "sys.path.append(\"..\")\n",
    "from sample_code.vMPS_iTEBD import Sub180221 as Sub\n",
    "\n",
    "def init_mps(n_site, dim_phys, dim_bond):\n",
    "    mps = [None] * n_site\n",
    "    for i in range(n_site):\n",
    "        dim_left = min(dim_phys ** i, dim_phys ** (n_site - i), dim_bond)\n",
    "        dim_right = min(dim_phys ** (i+1), dim_phys ** (n_site-1-i), dim_bond)\n",
    "        mps[i] = np.random.rand(dim_left, dim_phys, dim_right)\n",
    "    \n",
    "    # canonicalize\n",
    "    U = np.eye(np.shape(mps[-1])[-1])\n",
    "    for i in range(n_site - 1, 0, -1):\n",
    "        U, mps[i] = Sub.Mps_LQP(mps[i], U)\n",
    "    \n",
    "    return mps"
   ]
  },
  {
   "cell_type": "markdown",
   "metadata": {},
   "source": [
    "## Environment Initialization\n",
    "\n",
    "The third step is to multiply out all the MPOs and sandwitch it with the MPS to obtain the whole tensor.\n",
    "\n",
    "This step is called environment initialization (i.e. all the tensors in $\\bra{\\psi}H\\ket{\\psi}$)."
   ]
  },
  {
   "cell_type": "code",
   "execution_count": 3,
   "metadata": {},
   "outputs": [],
   "source": [
    "def initH(mpo, mps):\n",
    "    n_site = len(mps)\n",
    "    dim_mpo = np.shape(mpo)[0]\n",
    "    \n",
    "    H_left = [None] * n_site\n",
    "    H_right = [None] * n_site\n",
    "    \n",
    "    H_left[0] = np.zeros((1, dim_mpo, 1))\n",
    "    H_left[0][0, 0, 0] = 1\n",
    "    H_right[-1] = np.zeros((1, dim_mpo, 1))\n",
    "    H_right[-1][0, -1, 0] = 1\n",
    "    \n",
    "    for i in range(n_site - 1, 0, -1):\n",
    "        H_right[i - 1] = Sub.NCon([H_right[i], mps[i], mpo, np.conj(mps[i])], \n",
    "        [[1, 3, 5], [-1, 2, 1], [-2, 2, 3, 4], [-3, 4, 5]])\n",
    "    \n",
    "    return H_left, H_right"
   ]
  },
  {
   "cell_type": "markdown",
   "metadata": {},
   "source": [
    "## Site Update\n",
    "\n",
    "The final step is to update each two site in an iterative manner and obtain the ground state in covergence.\n",
    "\n",
    "We implement the two site update precedure first and then carry out the sweeping.\n",
    "\n",
    "For the two site update precedure, we can generalize it to **arbitrary n sites** update precedure as below."
   ]
  },
  {
   "cell_type": "code",
   "execution_count": 23,
   "metadata": {},
   "outputs": [],
   "source": [
    "import scipy.sparse.linalg as LAs\n",
    "\n",
    "def update_sites(mpo, H_left, H_right, site_tensor_list):\n",
    "    '''\n",
    "    Update arbitrary n consecutive sites in the MPS\n",
    "    '''\n",
    "    shape_site_tensor_list = list(map(np.shape, site_tensor_list))\n",
    "    dim_site_tensor_list = list(map(lambda x: x[1], shape_site_tensor_list))\n",
    "    n_sites = len(shape_site_tensor_list)\n",
    "    print(shape_site_tensor_list)\n",
    "    \n",
    "    contract_rule = [[-1, 1, -(n_sites + 3)]] + \\\n",
    "                    [[i, -(n_sites + 3 + i), i + 1, -(1 + i)] for i in range(1, n_sites + 1)] + \\\n",
    "                    [[-(2 * n_sites + 4), n_sites + 1, -(n_sites + 2)]]\n",
    "    H_eff = Sub.NCon([H_left] + [mpo] * n_sites + [H_right], contract_rule)\n",
    "    print(H_eff.shape)\n",
    "    H_eff = Sub.Group(H_eff, [[i for i in range(n_sites + 2)], [i for i in range(n_sites + 2, 2 * n_sites + 4)]])\n",
    "    print(H_eff.shape)\n",
    "    eigval, eigvec = LAs.eigsh(H_eff, k=1, which='SA')\n",
    "\n",
    "    updated_site_tensor = np.reshape(eigvec, [H_left.shape[-1]] + dim_site_tensor_list + [H_right.shape[0]])\n",
    "    print(updated_site_tensor.shape)\n",
    "\n",
    "    updated_site_tensor_list = [None] * n_sites\n",
    "    for i in range(n_sites - 1):\n",
    "        svd_tensor = Sub.Group(updated_site_tensor, [[0, 1], list(range(2, len(updated_site_tensor.shape)))])\n",
    "        print(svd_tensor.shape)\n",
    "        u, s, v = np.linalg.svd(svd_tensor, full_matrices=False)\n",
    "        print(u.shape, s.shape, v.shape)\n",
    "        updated_site_tensor_list[i] = u.reshape(shape_site_tensor_list[i])\n",
    "        updated_site_tensor = np.diag(s) @ v\n",
    "    updated_site_tensor_list[-1] = updated_site_tensor.reshape(shape_site_tensor_list[-1])\n",
    "    \n",
    "    return updated_site_tensor_list, eigval"
   ]
  },
  {
   "cell_type": "markdown",
   "metadata": {},
   "source": [
    "Now we can implement the sweeping precedure.\n",
    "\n",
    "Here we update two sites per step."
   ]
  },
  {
   "cell_type": "code",
   "execution_count": 24,
   "metadata": {},
   "outputs": [],
   "source": [
    "def sweep(mpo, H_left, H_right, mps):\n",
    "    n_sites = len(mps)\n",
    "    eig0 = np.zeros(n_sites)\n",
    "    eig1 = np.zeros(n_sites)\n",
    "    \n",
    "    for r in range(100):\n",
    "        print(f'Iteration {r}:')\n",
    "    \n",
    "        for i in range(n_sites - 1):\n",
    "            mps[i:i+2], eig1[i] = update_sites(mpo, H_left[i], H_right[i+1], mps[i:i+2])\n",
    "            mps[i], U = Sub.Mps_QR0P(mps[i])\n",
    "            H_left[i+1] = Sub.NCon([H_left[i], np.conj(mps[i]), mpo, mps[i]], \n",
    "                            [[1, 3, 5], [1, 2, -1], [3, 4, -2, 2], [5, 4, -3]])\n",
    "            mps[i+1] = np.tensordot(U, mps[i+1], (1, 0))\n",
    "        \n",
    "        for i in range(n_sites - 1, 0, -1):\n",
    "            mps[i-2:i], eig1[i] = update_sites(mpo, H_left[i-1], H_right[i], mps[i-2:i])\n",
    "            U, mps[i] = Sub.Mps_LQ0P(mps[i])\n",
    "            H_right[i-1] = Sub.NCon([H_right[i], mps[i], mpo, np.conj(mps[i])], \n",
    "                            [[1, 3, 5], [-1, 2, 1], [-2, 2, 3, 4], [-3, 4, 5]])\n",
    "            mps[i-1] = np.tensordot(mps[i-1], U, (2,0))\n",
    "        \n",
    "        print(eig1)\n",
    "        if abs(eig1[1]-eig0[1]) < 1.0e-7:\n",
    "            break\n",
    "        eig0 = eig1.copy()\n",
    "    \n",
    "    print(f'energy per site: {eig1/n_sites}')\n",
    "    \n",
    "    return mps"
   ]
  },
  {
   "cell_type": "markdown",
   "metadata": {},
   "source": [
    "## Demo\n",
    "\n",
    "Now let's demonstrate this approach on our model."
   ]
  },
  {
   "cell_type": "code",
   "execution_count": 25,
   "metadata": {},
   "outputs": [
    {
     "name": "stdout",
     "output_type": "stream",
     "text": [
      "Iteration 0:\n",
      "[(1, 2, 2), (2, 2, 4)]\n",
      "(1, 2, 2, 4, 1, 2, 2, 4)\n",
      "(16, 16)\n",
      "(1, 2, 2, 4)\n",
      "(2, 8)\n",
      "(2, 2) (2,) (2, 8)\n",
      "[(2, 2, 4), (4, 2, 4)]\n",
      "(2, 2, 2, 4, 2, 2, 2, 4)\n",
      "(32, 32)\n",
      "(2, 2, 2, 4)\n",
      "(4, 8)\n",
      "(4, 4) (4,) (4, 8)\n",
      "[(4, 2, 4), (4, 2, 4)]\n",
      "(4, 2, 2, 4, 4, 2, 2, 4)\n",
      "(64, 64)\n",
      "(4, 2, 2, 4)\n",
      "(8, 8)\n",
      "(8, 8) (8,) (8, 8)\n"
     ]
    },
    {
     "ename": "ValueError",
     "evalue": "cannot reshape array of size 64 into shape (4,2,4)",
     "output_type": "error",
     "traceback": [
      "\u001b[0;31m---------------------------------------------------------------------------\u001b[0m",
      "\u001b[0;31mValueError\u001b[0m                                Traceback (most recent call last)",
      "\u001b[0;32m<ipython-input-25-5ac7aaf85864>\u001b[0m in \u001b[0;36m<module>\u001b[0;34m\u001b[0m\n\u001b[1;32m      3\u001b[0m \u001b[0mmps\u001b[0m \u001b[0;34m=\u001b[0m \u001b[0minit_mps\u001b[0m\u001b[0;34m(\u001b[0m\u001b[0mn_sites\u001b[0m\u001b[0;34m,\u001b[0m \u001b[0mdim_phys\u001b[0m\u001b[0;34m,\u001b[0m \u001b[0mdim_bond\u001b[0m\u001b[0;34m)\u001b[0m\u001b[0;34m\u001b[0m\u001b[0;34m\u001b[0m\u001b[0m\n\u001b[1;32m      4\u001b[0m \u001b[0mH_left\u001b[0m\u001b[0;34m,\u001b[0m \u001b[0mH_right\u001b[0m \u001b[0;34m=\u001b[0m \u001b[0minitH\u001b[0m\u001b[0;34m(\u001b[0m\u001b[0mmpo\u001b[0m\u001b[0;34m,\u001b[0m \u001b[0mmps\u001b[0m\u001b[0;34m)\u001b[0m\u001b[0;34m\u001b[0m\u001b[0;34m\u001b[0m\u001b[0m\n\u001b[0;32m----> 5\u001b[0;31m \u001b[0mmps\u001b[0m \u001b[0;34m=\u001b[0m \u001b[0msweep\u001b[0m\u001b[0;34m(\u001b[0m\u001b[0mmpo\u001b[0m\u001b[0;34m,\u001b[0m \u001b[0mH_left\u001b[0m\u001b[0;34m,\u001b[0m \u001b[0mH_right\u001b[0m\u001b[0;34m,\u001b[0m \u001b[0mmps\u001b[0m\u001b[0;34m)\u001b[0m\u001b[0;34m\u001b[0m\u001b[0;34m\u001b[0m\u001b[0m\n\u001b[0m",
      "\u001b[0;32m<ipython-input-24-370557066eeb>\u001b[0m in \u001b[0;36msweep\u001b[0;34m(mpo, H_left, H_right, mps)\u001b[0m\n\u001b[1;32m      8\u001b[0m \u001b[0;34m\u001b[0m\u001b[0m\n\u001b[1;32m      9\u001b[0m         \u001b[0;32mfor\u001b[0m \u001b[0mi\u001b[0m \u001b[0;32min\u001b[0m \u001b[0mrange\u001b[0m\u001b[0;34m(\u001b[0m\u001b[0mn_sites\u001b[0m \u001b[0;34m-\u001b[0m \u001b[0;36m1\u001b[0m\u001b[0;34m)\u001b[0m\u001b[0;34m:\u001b[0m\u001b[0;34m\u001b[0m\u001b[0;34m\u001b[0m\u001b[0m\n\u001b[0;32m---> 10\u001b[0;31m             \u001b[0mmps\u001b[0m\u001b[0;34m[\u001b[0m\u001b[0mi\u001b[0m\u001b[0;34m:\u001b[0m\u001b[0mi\u001b[0m\u001b[0;34m+\u001b[0m\u001b[0;36m2\u001b[0m\u001b[0;34m]\u001b[0m\u001b[0;34m,\u001b[0m \u001b[0meig1\u001b[0m\u001b[0;34m[\u001b[0m\u001b[0mi\u001b[0m\u001b[0;34m]\u001b[0m \u001b[0;34m=\u001b[0m \u001b[0mupdate_sites\u001b[0m\u001b[0;34m(\u001b[0m\u001b[0mmpo\u001b[0m\u001b[0;34m,\u001b[0m \u001b[0mH_left\u001b[0m\u001b[0;34m[\u001b[0m\u001b[0mi\u001b[0m\u001b[0;34m]\u001b[0m\u001b[0;34m,\u001b[0m \u001b[0mH_right\u001b[0m\u001b[0;34m[\u001b[0m\u001b[0mi\u001b[0m\u001b[0;34m+\u001b[0m\u001b[0;36m1\u001b[0m\u001b[0;34m]\u001b[0m\u001b[0;34m,\u001b[0m \u001b[0mmps\u001b[0m\u001b[0;34m[\u001b[0m\u001b[0mi\u001b[0m\u001b[0;34m:\u001b[0m\u001b[0mi\u001b[0m\u001b[0;34m+\u001b[0m\u001b[0;36m2\u001b[0m\u001b[0;34m]\u001b[0m\u001b[0;34m)\u001b[0m\u001b[0;34m\u001b[0m\u001b[0;34m\u001b[0m\u001b[0m\n\u001b[0m\u001b[1;32m     11\u001b[0m             \u001b[0mmps\u001b[0m\u001b[0;34m[\u001b[0m\u001b[0mi\u001b[0m\u001b[0;34m]\u001b[0m\u001b[0;34m,\u001b[0m \u001b[0mU\u001b[0m \u001b[0;34m=\u001b[0m \u001b[0mSub\u001b[0m\u001b[0;34m.\u001b[0m\u001b[0mMps_QR0P\u001b[0m\u001b[0;34m(\u001b[0m\u001b[0mmps\u001b[0m\u001b[0;34m[\u001b[0m\u001b[0mi\u001b[0m\u001b[0;34m]\u001b[0m\u001b[0;34m)\u001b[0m\u001b[0;34m\u001b[0m\u001b[0;34m\u001b[0m\u001b[0m\n\u001b[1;32m     12\u001b[0m             H_left[i+1] = Sub.NCon([H_left[i], np.conj(mps[i]), mpo, mps[i]], \n",
      "\u001b[0;32m<ipython-input-23-76c9c600622c>\u001b[0m in \u001b[0;36mupdate_sites\u001b[0;34m(mpo, H_left, H_right, site_tensor_list)\u001b[0m\n\u001b[1;32m     28\u001b[0m         \u001b[0mu\u001b[0m\u001b[0;34m,\u001b[0m \u001b[0ms\u001b[0m\u001b[0;34m,\u001b[0m \u001b[0mv\u001b[0m \u001b[0;34m=\u001b[0m \u001b[0mnp\u001b[0m\u001b[0;34m.\u001b[0m\u001b[0mlinalg\u001b[0m\u001b[0;34m.\u001b[0m\u001b[0msvd\u001b[0m\u001b[0;34m(\u001b[0m\u001b[0msvd_tensor\u001b[0m\u001b[0;34m,\u001b[0m \u001b[0mfull_matrices\u001b[0m\u001b[0;34m=\u001b[0m\u001b[0;32mFalse\u001b[0m\u001b[0;34m)\u001b[0m\u001b[0;34m\u001b[0m\u001b[0;34m\u001b[0m\u001b[0m\n\u001b[1;32m     29\u001b[0m         \u001b[0mprint\u001b[0m\u001b[0;34m(\u001b[0m\u001b[0mu\u001b[0m\u001b[0;34m.\u001b[0m\u001b[0mshape\u001b[0m\u001b[0;34m,\u001b[0m \u001b[0ms\u001b[0m\u001b[0;34m.\u001b[0m\u001b[0mshape\u001b[0m\u001b[0;34m,\u001b[0m \u001b[0mv\u001b[0m\u001b[0;34m.\u001b[0m\u001b[0mshape\u001b[0m\u001b[0;34m)\u001b[0m\u001b[0;34m\u001b[0m\u001b[0;34m\u001b[0m\u001b[0m\n\u001b[0;32m---> 30\u001b[0;31m         \u001b[0mupdated_site_tensor_list\u001b[0m\u001b[0;34m[\u001b[0m\u001b[0mi\u001b[0m\u001b[0;34m]\u001b[0m \u001b[0;34m=\u001b[0m \u001b[0mu\u001b[0m\u001b[0;34m.\u001b[0m\u001b[0mreshape\u001b[0m\u001b[0;34m(\u001b[0m\u001b[0mshape_site_tensor_list\u001b[0m\u001b[0;34m[\u001b[0m\u001b[0mi\u001b[0m\u001b[0;34m]\u001b[0m\u001b[0;34m)\u001b[0m\u001b[0;34m\u001b[0m\u001b[0;34m\u001b[0m\u001b[0m\n\u001b[0m\u001b[1;32m     31\u001b[0m         \u001b[0mupdated_site_tensor\u001b[0m \u001b[0;34m=\u001b[0m \u001b[0mnp\u001b[0m\u001b[0;34m.\u001b[0m\u001b[0mdiag\u001b[0m\u001b[0;34m(\u001b[0m\u001b[0ms\u001b[0m\u001b[0;34m)\u001b[0m \u001b[0;34m@\u001b[0m \u001b[0mv\u001b[0m\u001b[0;34m\u001b[0m\u001b[0;34m\u001b[0m\u001b[0m\n\u001b[1;32m     32\u001b[0m     \u001b[0mupdated_site_tensor_list\u001b[0m\u001b[0;34m[\u001b[0m\u001b[0;34m-\u001b[0m\u001b[0;36m1\u001b[0m\u001b[0;34m]\u001b[0m \u001b[0;34m=\u001b[0m \u001b[0mupdated_site_tensor\u001b[0m\u001b[0;34m.\u001b[0m\u001b[0mreshape\u001b[0m\u001b[0;34m(\u001b[0m\u001b[0mshape_site_tensor_list\u001b[0m\u001b[0;34m[\u001b[0m\u001b[0;34m-\u001b[0m\u001b[0;36m1\u001b[0m\u001b[0;34m]\u001b[0m\u001b[0;34m)\u001b[0m\u001b[0;34m\u001b[0m\u001b[0;34m\u001b[0m\u001b[0m\n",
      "\u001b[0;31mValueError\u001b[0m: cannot reshape array of size 64 into shape (4,2,4)"
     ]
    }
   ],
   "source": [
    "n_sites = 10; dim_phys = 2; dim_bond = 4\n",
    "mpo = mpo\n",
    "mps = init_mps(n_sites, dim_phys, dim_bond)\n",
    "H_left, H_right = initH(mpo, mps)\n",
    "mps = sweep(mpo, H_left, H_right, mps)"
   ]
  },
  {
   "cell_type": "code",
   "execution_count": null,
   "metadata": {},
   "outputs": [],
   "source": []
  }
 ],
 "metadata": {
  "interpreter": {
   "hash": "6544d7d25989b4294a912322cb1a3d014baeb728b9c72e23e3b8bbf4fa651ef0"
  },
  "kernelspec": {
   "display_name": "Python 3.7.6 64-bit ('anaconda3-2020.02': pyenv)",
   "name": "python3"
  },
  "language_info": {
   "codemirror_mode": {
    "name": "ipython",
    "version": 3
   },
   "file_extension": ".py",
   "mimetype": "text/x-python",
   "name": "python",
   "nbconvert_exporter": "python",
   "pygments_lexer": "ipython3",
   "version": "3.7.6"
  },
  "orig_nbformat": 4
 },
 "nbformat": 4,
 "nbformat_minor": 2
}
